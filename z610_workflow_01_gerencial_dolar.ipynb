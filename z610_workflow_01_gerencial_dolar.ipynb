{
  "cells": [
    {
      "cell_type": "markdown",
      "metadata": {
        "id": "view-in-github",
        "colab_type": "text"
      },
      "source": [
        "<a href=\"https://colab.research.google.com/github/edsilva14/dm2025a/blob/main/z610_workflow_01_gerencial_dolar.ipynb\" target=\"_parent\"><img src=\"https://colab.research.google.com/assets/colab-badge.svg\" alt=\"Open In Colab\"/></a>"
      ]
    },
    {
      "cell_type": "markdown",
      "id": "859d38e7-11c0-48bc-978a-d0e907f19ed1",
      "metadata": {
        "id": "859d38e7-11c0-48bc-978a-d0e907f19ed1"
      },
      "source": [
        "# 6 WorkFlow"
      ]
    },
    {
      "cell_type": "markdown",
      "id": "29c586e3-ed7d-44b2-92a0-f19669f06940",
      "metadata": {
        "id": "29c586e3-ed7d-44b2-92a0-f19669f06940"
      },
      "source": [
        "### 6.1 Objetivo"
      ]
    },
    {
      "cell_type": "markdown",
      "id": "6fff8327-10ed-4b11-bbee-f1c3f357d123",
      "metadata": {
        "id": "6fff8327-10ed-4b11-bbee-f1c3f357d123"
      },
      "source": [
        "Presentar un workflow/pipeline completo al que los estudiantes deberán enriquecer"
      ]
    },
    {
      "cell_type": "markdown",
      "source": [
        "#### 6.2  Seteo del ambiente en Google Colab"
      ],
      "metadata": {
        "id": "PX0qg_c0yqob"
      },
      "id": "PX0qg_c0yqob"
    },
    {
      "cell_type": "markdown",
      "metadata": {
        "id": "NGY7H9xza7Zr"
      },
      "source": [
        "Esta parte se debe correr con el runtime en Python3\n",
        "<br>Ir al menu, Runtime -> Change Runtime Type -> Runtime type ->  **Python 3**"
      ],
      "id": "NGY7H9xza7Zr"
    },
    {
      "cell_type": "markdown",
      "metadata": {
        "id": "7PupIBNba7Zr"
      },
      "source": [
        "Conectar la virtual machine donde esta corriendo Google Colab con el  Google Drive, para poder tener persistencia de archivos"
      ],
      "id": "7PupIBNba7Zr"
    },
    {
      "cell_type": "code",
      "execution_count": 1,
      "metadata": {
        "id": "9LpZCst5a7Zs",
        "colab": {
          "base_uri": "https://localhost:8080/"
        },
        "outputId": "14c949b8-99a7-4f61-8796-4dfe9bde01df"
      },
      "outputs": [
        {
          "output_type": "stream",
          "name": "stdout",
          "text": [
            "Mounted at /content/.drive\n"
          ]
        }
      ],
      "source": [
        "# primero establecer el Runtime de Python 3\n",
        "from google.colab import drive\n",
        "drive.mount('/content/.drive')"
      ],
      "id": "9LpZCst5a7Zs"
    },
    {
      "cell_type": "markdown",
      "metadata": {
        "id": "JYC_F-wla7Zs"
      },
      "source": [
        "Para correr la siguiente celda es fundamental en Arranque en Frio haber copiado el archivo kaggle.json al Google Drive, en la carpeta indicada en el instructivo\n",
        "\n",
        "<br>los siguientes comando estan en shell script de Linux\n",
        "*   Crear las carpetas en el Google Drive\n",
        "*   \"instalar\" el archivo kaggle.json desde el Google Drive a la virtual machine para que pueda ser utilizado por la libreria  kaggle de Python\n",
        "*   Bajar el  **dataset_pequeno**  al  Google Drive  y tambien al disco local de la virtual machine que esta corriendo Google Colab\n",
        "*   Bajar el **dataset_historico** al Google Drive y tambien al disco local de la virtual machine que esta corriendo Google Colab\n",
        "\n"
      ],
      "id": "JYC_F-wla7Zs"
    },
    {
      "cell_type": "code",
      "execution_count": null,
      "metadata": {
        "id": "XWLelftXa7Zt"
      },
      "outputs": [],
      "source": [
        "%%shell\n",
        "\n",
        "mkdir -p \"/content/.drive/My Drive/dm\"\n",
        "mkdir -p \"/content/buckets\"\n",
        "ln -s \"/content/.drive/My Drive/dm\" /content/buckets/b1\n",
        "\n",
        "mkdir -p ~/.kaggle\n",
        "cp /content/buckets/b1/kaggle/kaggle.json  ~/.kaggle\n",
        "chmod 600 ~/.kaggle/kaggle.json\n",
        "\n",
        "\n",
        "mkdir -p /content/buckets/b1/exp\n",
        "mkdir -p /content/buckets/b1/datasets\n",
        "mkdir -p /content/datasets\n",
        "\n",
        "\n",
        "webfiles=\"https://storage.googleapis.com/open-courses/itba2025-8d0a/\"\n",
        "destino_local=\"/content/datasets\"\n",
        "destino_bucket=\"/content/buckets/b1/datasets\"\n",
        "\n",
        "\n",
        "archivo=\"dataset_pequeno.csv\"\n",
        "\n",
        "if ! test -f $destino_bucket/$archivo; then\n",
        "  wget  $webfiles/$archivo  -O $destino_bucket/$archivo\n",
        "fi\n",
        "\n",
        "\n",
        "if ! test -f $destino_local/$pequeno; then\n",
        "  cp  $destino_bucket/$archivo  $destino_local/$archivo\n",
        "fi\n",
        "\n",
        "#-------\n",
        "\n",
        "archivo=\"gerencial_competencia_2025.csv.gz\"\n",
        "\n",
        "if ! test -f $destino_bucket/$archivo; then\n",
        "  wget  $webfiles/$archivo  -O $destino_bucket/$archivo\n",
        "fi\n",
        "\n",
        "\n",
        "if ! test -f $destino_local/$pequeno; then\n",
        "  cp  $destino_bucket/$archivo  $destino_local/$archivo\n",
        "fi\n"
      ],
      "id": "XWLelftXa7Zt"
    },
    {
      "cell_type": "markdown",
      "source": [
        "## 6.3  Workflow"
      ],
      "metadata": {
        "id": "oSKhZRToy2F7"
      },
      "id": "oSKhZRToy2F7"
    },
    {
      "cell_type": "markdown",
      "id": "85171302-a2d6-48cb-b9b2-8d839a276859",
      "metadata": {
        "id": "85171302-a2d6-48cb-b9b2-8d839a276859"
      },
      "source": [
        "## Inicializacion"
      ]
    },
    {
      "cell_type": "markdown",
      "metadata": {
        "id": "eSU5vi00CPRS"
      },
      "source": [
        "Esta parte se debe correr con el runtime en lenguaje **R** Ir al menu, Runtime -> Change Runtime Type -> Runtime type -> R"
      ],
      "id": "eSU5vi00CPRS"
    },
    {
      "cell_type": "markdown",
      "metadata": {
        "id": "Zq8dySimCPRT"
      },
      "source": [
        "limpio el ambiente de R"
      ],
      "id": "Zq8dySimCPRT"
    },
    {
      "cell_type": "code",
      "source": [
        "format(Sys.time(), \"%a %b %d %X %Y\")"
      ],
      "metadata": {
        "id": "EL8wdHaUs59K",
        "colab": {
          "base_uri": "https://localhost:8080/",
          "height": 34
        },
        "outputId": "c7c22a71-6d08-4a60-ffa5-b05c12d8e13d"
      },
      "id": "EL8wdHaUs59K",
      "execution_count": 1,
      "outputs": [
        {
          "output_type": "display_data",
          "data": {
            "text/html": [
              "'Tue Aug 12 01:30:45 PM 2025'"
            ],
            "text/markdown": "'Tue Aug 12 01:30:45 PM 2025'",
            "text/latex": "'Tue Aug 12 01:30:45 PM 2025'",
            "text/plain": [
              "[1] \"Tue Aug 12 01:30:45 PM 2025\""
            ]
          },
          "metadata": {}
        }
      ]
    },
    {
      "cell_type": "code",
      "execution_count": 2,
      "metadata": {
        "id": "1iE0U4_WCPRT",
        "colab": {
          "base_uri": "https://localhost:8080/",
          "height": 129
        },
        "outputId": "f74f579c-947f-43a1-9a14-447ed98f2d91"
      },
      "outputs": [
        {
          "output_type": "display_data",
          "data": {
            "text/html": [
              "<table class=\"dataframe\">\n",
              "<caption>A matrix: 2 × 6 of type dbl</caption>\n",
              "<thead>\n",
              "\t<tr><th></th><th scope=col>used</th><th scope=col>(Mb)</th><th scope=col>gc trigger</th><th scope=col>(Mb)</th><th scope=col>max used</th><th scope=col>(Mb)</th></tr>\n",
              "</thead>\n",
              "<tbody>\n",
              "\t<tr><th scope=row>Ncells</th><td> 659554</td><td>35.3</td><td>1454477</td><td>77.7</td><td>1454477</td><td>77.7</td></tr>\n",
              "\t<tr><th scope=row>Vcells</th><td>1225547</td><td> 9.4</td><td>8388608</td><td>64.0</td><td>1975128</td><td>15.1</td></tr>\n",
              "</tbody>\n",
              "</table>\n"
            ],
            "text/markdown": "\nA matrix: 2 × 6 of type dbl\n\n| <!--/--> | used | (Mb) | gc trigger | (Mb) | max used | (Mb) |\n|---|---|---|---|---|---|---|\n| Ncells |  659554 | 35.3 | 1454477 | 77.7 | 1454477 | 77.7 |\n| Vcells | 1225547 |  9.4 | 8388608 | 64.0 | 1975128 | 15.1 |\n\n",
            "text/latex": "A matrix: 2 × 6 of type dbl\n\\begin{tabular}{r|llllll}\n  & used & (Mb) & gc trigger & (Mb) & max used & (Mb)\\\\\n\\hline\n\tNcells &  659554 & 35.3 & 1454477 & 77.7 & 1454477 & 77.7\\\\\n\tVcells & 1225547 &  9.4 & 8388608 & 64.0 & 1975128 & 15.1\\\\\n\\end{tabular}\n",
            "text/plain": [
              "       used    (Mb) gc trigger (Mb) max used (Mb)\n",
              "Ncells  659554 35.3 1454477    77.7 1454477  77.7\n",
              "Vcells 1225547  9.4 8388608    64.0 1975128  15.1"
            ]
          },
          "metadata": {}
        }
      ],
      "source": [
        "# limpio la memoria\n",
        "rm(list=ls(all.names=TRUE)) # remove all objects\n",
        "gc(full=TRUE, verbose=FALSE) # garbage collection"
      ],
      "id": "1iE0U4_WCPRT"
    },
    {
      "cell_type": "code",
      "source": [
        "require(\"data.table\")\n",
        "\n",
        "if( !require(\"R.utils\")) install.packages(\"R.utils\")\n",
        "require(\"R.utils\")"
      ],
      "metadata": {
        "id": "atmIUEUNUrK5"
      },
      "id": "atmIUEUNUrK5",
      "execution_count": 11,
      "outputs": []
    },
    {
      "cell_type": "markdown",
      "source": [
        "#### Parametros\n",
        "Si es gerente, no cambie nada\n",
        "<br>Si es Analista, cambie el nombre del dataset"
      ],
      "metadata": {
        "id": "BsxZ_ONyj9L_"
      },
      "id": "BsxZ_ONyj9L_"
    },
    {
      "cell_type": "code",
      "source": [
        "PARAM <- list()\n",
        "PARAM$semilla_primigenia <- 147894\n",
        "\n",
        "PARAM$experimento <- 6300\n",
        "PARAM$dataset <- \"gerencial_competencia_2025.csv.gz\""
      ],
      "metadata": {
        "id": "peRH7ySLCPRV"
      },
      "execution_count": 12,
      "outputs": [],
      "id": "peRH7ySLCPRV"
    },
    {
      "cell_type": "markdown",
      "source": [
        "#### Carpeta del Experimento"
      ],
      "metadata": {
        "id": "NoJbKo_4NG8A"
      },
      "id": "NoJbKo_4NG8A"
    },
    {
      "cell_type": "code",
      "source": [
        "# carpeta de trabajo\n",
        "\n",
        "setwd(\"/content/buckets/b1/exp\")\n",
        "experimento_folder <- paste0(\"WF\", PARAM$experimento)\n",
        "dir.create(experimento_folder, showWarnings=FALSE)\n",
        "setwd( paste0(\"/content/buckets/b1/exp/\", experimento_folder ))"
      ],
      "metadata": {
        "id": "1gZD6ZMvCPRV",
        "outputId": "ce0df855-d549-4529-a6c3-89576bbc08db",
        "colab": {
          "base_uri": "https://localhost:8080/",
          "height": 228
        }
      },
      "execution_count": 13,
      "outputs": [
        {
          "output_type": "error",
          "ename": "ERROR",
          "evalue": "Error in setwd(\"/content/buckets/b1/exp\"): cannot change working directory\n",
          "traceback": [
            "Error in setwd(\"/content/buckets/b1/exp\"): cannot change working directory\nTraceback:\n",
            "1. .handleSimpleError(function (cnd) \n . {\n .     watcher$capture_plot_and_output()\n .     cnd <- sanitize_call(cnd)\n .     watcher$push(cnd)\n .     switch(on_error, continue = invokeRestart(\"eval_continue\"), \n .         stop = invokeRestart(\"eval_stop\"), error = NULL)\n . }, \"cannot change working directory\", base::quote(setwd(\"/content/buckets/b1/exp\")))"
          ]
        }
      ],
      "id": "1gZD6ZMvCPRV"
    },
    {
      "cell_type": "markdown",
      "source": [
        "### 6.3.1   Preprocesamiento del dataset"
      ],
      "metadata": {
        "id": "YVKBfLtkR8SO"
      },
      "id": "YVKBfLtkR8SO"
    },
    {
      "cell_type": "markdown",
      "source": [
        "#### 6.3.1.1  DT incorporar dataset"
      ],
      "metadata": {
        "id": "cr3K0RPVRjq6"
      },
      "id": "cr3K0RPVRjq6"
    },
    {
      "cell_type": "code",
      "source": [
        "# lectura del dataset\n",
        "dataset <- fread(paste0(\"/content/datasets/\", PARAM$dataset))"
      ],
      "metadata": {
        "id": "Xi0emX2ECPRV",
        "outputId": "981ae459-c30e-48e4-b71e-14e362cec2c0",
        "colab": {
          "base_uri": "https://localhost:8080/",
          "height": 176
        }
      },
      "execution_count": 10,
      "outputs": [
        {
          "output_type": "error",
          "ename": "ERROR",
          "evalue": "Error in fread(paste0(\"/content/datasets/\", PARAM$dataset)): File '/content/datasets/gerencial_competencia_2025.csv.gz' does not exist or is non-readable. getwd()=='/content'\n",
          "traceback": [
            "Error in fread(paste0(\"/content/datasets/\", PARAM$dataset)): File '/content/datasets/gerencial_competencia_2025.csv.gz' does not exist or is non-readable. getwd()=='/content'\nTraceback:\n",
            "1. stopf(\"File '%s' does not exist or is non-readable. getwd()=='%s'\", \n .     file, getwd())",
            "2. raise_condition(stop, gettextf(fmt, ..., domain = domain), c(class, \n .     \"simpleError\", \"error\", \"condition\"))",
            "3. signal(obj)"
          ]
        }
      ],
      "id": "Xi0emX2ECPRV"
    },
    {
      "cell_type": "code",
      "source": [
        "dataset <- read.csv('gerencial_muestra.csv')"
      ],
      "metadata": {
        "id": "ANlg1gQ9hBjH"
      },
      "id": "ANlg1gQ9hBjH",
      "execution_count": 14,
      "outputs": []
    },
    {
      "cell_type": "code",
      "source": [
        "library(data.table)\n",
        "setDT(dataset)\n"
      ],
      "metadata": {
        "id": "rdbXsGZThK2z"
      },
      "id": "rdbXsGZThK2z",
      "execution_count": 23,
      "outputs": []
    },
    {
      "cell_type": "markdown",
      "source": [
        "#### 6.3.1.2  CA  Catastrophe Analysis\n",
        "Se intentan reparar las variables que para un mes están con todos los valores en cero."
      ],
      "metadata": {
        "id": "MWuPzK3nSLY3"
      },
      "id": "MWuPzK3nSLY3"
    },
    {
      "cell_type": "markdown",
      "source": [
        "El método que se utiliza es **Machine Learning** se asigna NA also valores, si ha leido bien, es la \"anti imputación de valores faltantes\"\n",
        "<br> Usted podrá aplicar aquí otros métodos"
      ],
      "metadata": {
        "id": "UAI16-yCVcBS"
      },
      "id": "UAI16-yCVcBS"
    },
    {
      "cell_type": "code",
      "source": [
        "dataset[foto_mes==202006, internet:=NA]\n",
        "dataset[ foto_mes==202006, mrentabilidad:=NA]\n",
        "dataset[ foto_mes==202006, mrentabilidad_annual:=NA]\n",
        "dataset[ foto_mes==202006, mcomisiones:=NA]\n",
        "dataset[ foto_mes==202006, mactivos_margen:=NA]\n",
        "dataset[ foto_mes==202006, mpasivos_margen:=NA]\n",
        "dataset[ foto_mes==202006, mcuentas_saldo:=NA]\n",
        "dataset[ foto_mes==202006, ctarjeta_visa_transacciones:=NA]\n",
        "dataset[ foto_mes==202006, mtarjeta_visa_consumo:=NA]\n",
        "dataset[ foto_mes==202006, mtarjeta_master_consumo:=NA]\n",
        "dataset[ foto_mes==202006, ccallcenter_transacciones:=NA]\n",
        "dataset[ foto_mes==202006, chomebanking_transacciones:=NA]\n",
        "dataset[ foto_mes==202006, chomebanking_transacciones:=NA]"
      ],
      "metadata": {
        "id": "sTmliO_FXv9E"
      },
      "id": "sTmliO_FXv9E",
      "execution_count": 24,
      "outputs": []
    },
    {
      "cell_type": "markdown",
      "source": [
        "#### 6.3.1.3  DR  Data Drifting\n",
        "Se intenta corregir el data drifting, quizas ajustando por IPC ...\n",
        "<br>Esta parte podrá ser abordada por todos los Analistas y también la Gerenciapero se decide pedagogicamente no incluirla en esta primer version para reducir la carga cognitiva"
      ],
      "metadata": {
        "id": "-4NiANYFSYHG"
      },
      "id": "-4NiANYFSYHG"
    },
    {
      "cell_type": "code",
      "source": [
        "# meses que me interesan para el ajuste de variables monetarias\n",
        "vfoto_mes <- c(\n",
        "  201901, 201902, 201903, 201904, 201905, 201906,\n",
        "  201907, 201908, 201909, 201910, 201911, 201912,\n",
        "  202001, 202002, 202003, 202004, 202005, 202006,\n",
        "  202007, 202008, 202009, 202010, 202011, 202012,\n",
        "  202101, 202102, 202103, 202104, 202105, 202106,\n",
        "  202107, 202108, 202109\n",
        ")\n"
      ],
      "metadata": {
        "id": "L85A2lwKSe3k"
      },
      "id": "L85A2lwKSe3k",
      "execution_count": 29,
      "outputs": []
    },
    {
      "cell_type": "code",
      "source": [
        "vdolar_oficial <- c(\n",
        "   38.430000,  39.428000,  42.542105,\n",
        "   44.354211,  46.088636,  44.955000,\n",
        "   43.751429,  54.650476,  58.790000,\n",
        "   61.403182,  63.012632,  63.011579,\n",
        "   62.983636,  63.580556,  65.200000,\n",
        "   67.872000,  70.047895,  72.520952,\n",
        "   75.324286,  77.488500,  79.430909,\n",
        "   83.134762,  85.484737,  88.181667,\n",
        "   91.474000,  93.997778,  96.635909,\n",
        "   98.526000,  99.613158, 100.619048,\n",
        "  101.619048, 102.569048, 103.781818\n",
        ")"
      ],
      "metadata": {
        "id": "Ze_03EMsioqA"
      },
      "id": "Ze_03EMsioqA",
      "execution_count": 27,
      "outputs": []
    },
    {
      "cell_type": "code",
      "source": [
        "tb_indices <- as.data.table( list(\n",
        "\n",
        "  \"dolar_oficial\" = vdolar_oficial  )\n",
        ")\n",
        "\n",
        "tb_indices[[ 'foto_mes' ]] <- vfoto_mes"
      ],
      "metadata": {
        "id": "5FvT8Mc4i0PQ"
      },
      "id": "5FvT8Mc4i0PQ",
      "execution_count": 30,
      "outputs": []
    },
    {
      "cell_type": "code",
      "source": [
        "drift_dolar_oficial <- function(campos_monetarios) {\n",
        "  cat( \"inicio drift_dolar_oficial()\\n\")\n",
        "\n",
        "  dataset[tb_indices,\n",
        "    on = c(\"foto_mes\"),\n",
        "    (campos_monetarios) := .SD / i.dolar_oficial,\n",
        "    .SDcols = campos_monetarios\n",
        "  ]\n",
        "\n",
        "  cat( \"fin drift_dolar_oficial()\\n\")\n",
        "}\n"
      ],
      "metadata": {
        "id": "OPfpR9TyjCdw"
      },
      "id": "OPfpR9TyjCdw",
      "execution_count": 31,
      "outputs": []
    },
    {
      "cell_type": "code",
      "source": [
        "drift_rank_simple <- function(campos_drift) {\n",
        "\n",
        "  cat( \"inicio drift_rank_simple()\\n\")\n",
        "  for (campo in campos_drift)\n",
        "  {\n",
        "    cat(campo, \" \")\n",
        "    dataset[, paste0(campo, \"_rank\") :=\n",
        "      (frank(get(campo), ties.method = \"random\") - 1) / (.N - 1), by = list(foto_mes)]\n",
        "    dataset[, (campo) := NULL]\n",
        "  }\n",
        "  cat( \"fin drift_rank_simple()\\n\")\n",
        "}\n"
      ],
      "metadata": {
        "id": "3jNNH-1jjJkQ"
      },
      "id": "3jNNH-1jjJkQ",
      "execution_count": 32,
      "outputs": []
    },
    {
      "cell_type": "code",
      "source": [
        "# El cero se transforma en cero\n",
        "# los positivos se rankean por su lado\n",
        "# los negativos se rankean por su lado\n",
        "\n",
        "drift_rank_cero_fijo <- function(campos_drift) {\n",
        "\n",
        "  cat( \"inicio drift_rank_cero_fijo()\\n\")\n",
        "  for (campo in campos_drift)\n",
        "  {\n",
        "    cat(campo, \" \")\n",
        "    dataset[get(campo) == 0, paste0(campo, \"_rank\") := 0]\n",
        "    dataset[get(campo) > 0, paste0(campo, \"_rank\") :=\n",
        "      frank(get(campo), ties.method = \"random\") / .N, by = list(foto_mes)]\n",
        "\n",
        "    dataset[get(campo) < 0, paste0(campo, \"_rank\") :=\n",
        "      -frank(-get(campo), ties.method = \"random\") / .N, by = list(foto_mes)]\n",
        "    dataset[, (campo) := NULL]\n",
        "  }\n",
        "  cat(\"\\n\")\n",
        "  cat( \"fin drift_rank_cero_fijo()\\n\")\n",
        "}\n"
      ],
      "metadata": {
        "id": "HDXxHJFjjPPD"
      },
      "id": "HDXxHJFjjPPD",
      "execution_count": 33,
      "outputs": []
    },
    {
      "cell_type": "code",
      "source": [
        "drift_estandarizar <- function(campos_drift) {\n",
        "\n",
        "  cat( \"inicio drift_estandarizar()\\n\")\n",
        "  for (campo in campos_drift)\n",
        "  {\n",
        "    cat(campo, \" \")\n",
        "    dataset[, paste0(campo, \"_normal\") :=\n",
        "      (get(campo) -mean(campo, na.rm=TRUE)) / sd(get(campo), na.rm=TRUE),\n",
        "      by = list(foto_mes)]\n",
        "\n",
        "    dataset[, (campo) := NULL]\n",
        "  }\n",
        "  cat( \"fin drift_estandarizar()\\n\")\n",
        "}\n"
      ],
      "metadata": {
        "id": "ZYujlFrWjRpk"
      },
      "id": "ZYujlFrWjRpk",
      "execution_count": 34,
      "outputs": []
    },
    {
      "cell_type": "code",
      "source": [
        "# por como armé los nombres de campos,\n",
        "#  estos son los campos que expresan variables monetarias\n",
        "campos_monetarios <- colnames(dataset)\n",
        "campos_monetarios <- campos_monetarios[campos_monetarios %like%\n",
        "  \"^(m|Visa_m|Master_m|vm_m)\"]\n",
        "\n",
        "campos_monetarios"
      ],
      "metadata": {
        "id": "KHFrAy5mjVB2",
        "outputId": "2801f358-9f9b-4862-b243-c507bedfb993",
        "colab": {
          "base_uri": "https://localhost:8080/",
          "height": 52
        }
      },
      "id": "KHFrAy5mjVB2",
      "execution_count": 35,
      "outputs": [
        {
          "output_type": "display_data",
          "data": {
            "text/html": [
              "<style>\n",
              ".list-inline {list-style: none; margin:0; padding: 0}\n",
              ".list-inline>li {display: inline-block}\n",
              ".list-inline>li:not(:last-child)::after {content: \"\\00b7\"; padding: 0 .5ex}\n",
              "</style>\n",
              "<ol class=list-inline><li>'mrentabilidad'</li><li>'mrentabilidad_annual'</li><li>'mcomisiones'</li><li>'mactivos_margen'</li><li>'mpasivos_margen'</li><li>'mcuenta_corriente'</li><li>'mcaja_ahorro'</li><li>'mcuentas_saldo'</li><li>'mtarjeta_visa_consumo'</li><li>'mtarjeta_master_consumo'</li><li>'mprestamos_personales'</li><li>'mpayroll'</li><li>'Master_mpagominimo'</li><li>'Visa_mpagominimo'</li></ol>\n"
            ],
            "text/markdown": "1. 'mrentabilidad'\n2. 'mrentabilidad_annual'\n3. 'mcomisiones'\n4. 'mactivos_margen'\n5. 'mpasivos_margen'\n6. 'mcuenta_corriente'\n7. 'mcaja_ahorro'\n8. 'mcuentas_saldo'\n9. 'mtarjeta_visa_consumo'\n10. 'mtarjeta_master_consumo'\n11. 'mprestamos_personales'\n12. 'mpayroll'\n13. 'Master_mpagominimo'\n14. 'Visa_mpagominimo'\n\n\n",
            "text/latex": "\\begin{enumerate*}\n\\item 'mrentabilidad'\n\\item 'mrentabilidad\\_annual'\n\\item 'mcomisiones'\n\\item 'mactivos\\_margen'\n\\item 'mpasivos\\_margen'\n\\item 'mcuenta\\_corriente'\n\\item 'mcaja\\_ahorro'\n\\item 'mcuentas\\_saldo'\n\\item 'mtarjeta\\_visa\\_consumo'\n\\item 'mtarjeta\\_master\\_consumo'\n\\item 'mprestamos\\_personales'\n\\item 'mpayroll'\n\\item 'Master\\_mpagominimo'\n\\item 'Visa\\_mpagominimo'\n\\end{enumerate*}\n",
            "text/plain": [
              " [1] \"mrentabilidad\"           \"mrentabilidad_annual\"   \n",
              " [3] \"mcomisiones\"             \"mactivos_margen\"        \n",
              " [5] \"mpasivos_margen\"         \"mcuenta_corriente\"      \n",
              " [7] \"mcaja_ahorro\"            \"mcuentas_saldo\"         \n",
              " [9] \"mtarjeta_visa_consumo\"   \"mtarjeta_master_consumo\"\n",
              "[11] \"mprestamos_personales\"   \"mpayroll\"               \n",
              "[13] \"Master_mpagominimo\"      \"Visa_mpagominimo\"       "
            ]
          },
          "metadata": {}
        }
      ]
    },
    {
      "cell_type": "code",
      "source": [
        "# ejecuto el Data Drifting\n",
        "setorder( dataset, numero_de_cliente, foto_mes )\n",
        "\n",
        "\n",
        "PARAM$DR$metodo <- \"deflacion\"\n",
        "\n",
        "switch(PARAM$DR$metodo,\n",
        "  \"ninguno\"        = cat(\"No hay correccion del data drifting\"),\n",
        "  \"rank_simple\"    = drift_rank_simple(campos_monetarios),\n",
        "  \"rank_cero_fijo\" = drift_rank_cero_fijo(campos_monetarios),\n",
        "  # \"deflacion\"      = drift_deflacion(campos_monetarios),\n",
        "  # \"dolar_blue\"     = drift_dolarblue(campos_monetarios),\n",
        "  \"dolar_oficial\"  = drift_dolaroficial(campos_monetarios),\n",
        "  # \"UVA\"            = drift_UVA(campos_monetarios),\n",
        "  \"estandarizar\"   = drift_estandarizar(campos_monetarios)\n",
        ")\n"
      ],
      "metadata": {
        "id": "Bn4HMuDDjVzs"
      },
      "id": "Bn4HMuDDjVzs",
      "execution_count": 36,
      "outputs": []
    },
    {
      "cell_type": "code",
      "source": [
        "colnames(dataset)"
      ],
      "metadata": {
        "id": "7NACjneDjiNE",
        "outputId": "399d8890-6c79-4a10-9256-e8857dcbe8d5",
        "colab": {
          "base_uri": "https://localhost:8080/",
          "height": 69
        }
      },
      "id": "7NACjneDjiNE",
      "execution_count": 37,
      "outputs": [
        {
          "output_type": "display_data",
          "data": {
            "text/html": [
              "<style>\n",
              ".list-inline {list-style: none; margin:0; padding: 0}\n",
              ".list-inline>li {display: inline-block}\n",
              ".list-inline>li:not(:last-child)::after {content: \"\\00b7\"; padding: 0 .5ex}\n",
              "</style>\n",
              "<ol class=list-inline><li>'numero_de_cliente'</li><li>'foto_mes'</li><li>'internet'</li><li>'cliente_edad'</li><li>'cliente_antiguedad'</li><li>'mrentabilidad'</li><li>'mrentabilidad_annual'</li><li>'mcomisiones'</li><li>'mactivos_margen'</li><li>'mpasivos_margen'</li><li>'cproductos'</li><li>'mcuenta_corriente'</li><li>'mcaja_ahorro'</li><li>'cdescubierto_preacordado'</li><li>'mcuentas_saldo'</li><li>'ctarjeta_visa_transacciones'</li><li>'mtarjeta_visa_consumo'</li><li>'mtarjeta_master_consumo'</li><li>'mprestamos_personales'</li><li>'cpayroll_trx'</li><li>'mpayroll'</li><li>'ccomisiones_mantenimiento'</li><li>'ccallcenter_transacciones'</li><li>'chomebanking_transacciones'</li><li>'ctrx_quarter'</li><li>'Master_status'</li><li>'Master_fechaalta'</li><li>'Master_mpagominimo'</li><li>'Visa_status'</li><li>'Visa_fechaalta'</li><li>'Visa_mpagominimo'</li><li>'clase_ternaria'</li></ol>\n"
            ],
            "text/markdown": "1. 'numero_de_cliente'\n2. 'foto_mes'\n3. 'internet'\n4. 'cliente_edad'\n5. 'cliente_antiguedad'\n6. 'mrentabilidad'\n7. 'mrentabilidad_annual'\n8. 'mcomisiones'\n9. 'mactivos_margen'\n10. 'mpasivos_margen'\n11. 'cproductos'\n12. 'mcuenta_corriente'\n13. 'mcaja_ahorro'\n14. 'cdescubierto_preacordado'\n15. 'mcuentas_saldo'\n16. 'ctarjeta_visa_transacciones'\n17. 'mtarjeta_visa_consumo'\n18. 'mtarjeta_master_consumo'\n19. 'mprestamos_personales'\n20. 'cpayroll_trx'\n21. 'mpayroll'\n22. 'ccomisiones_mantenimiento'\n23. 'ccallcenter_transacciones'\n24. 'chomebanking_transacciones'\n25. 'ctrx_quarter'\n26. 'Master_status'\n27. 'Master_fechaalta'\n28. 'Master_mpagominimo'\n29. 'Visa_status'\n30. 'Visa_fechaalta'\n31. 'Visa_mpagominimo'\n32. 'clase_ternaria'\n\n\n",
            "text/latex": "\\begin{enumerate*}\n\\item 'numero\\_de\\_cliente'\n\\item 'foto\\_mes'\n\\item 'internet'\n\\item 'cliente\\_edad'\n\\item 'cliente\\_antiguedad'\n\\item 'mrentabilidad'\n\\item 'mrentabilidad\\_annual'\n\\item 'mcomisiones'\n\\item 'mactivos\\_margen'\n\\item 'mpasivos\\_margen'\n\\item 'cproductos'\n\\item 'mcuenta\\_corriente'\n\\item 'mcaja\\_ahorro'\n\\item 'cdescubierto\\_preacordado'\n\\item 'mcuentas\\_saldo'\n\\item 'ctarjeta\\_visa\\_transacciones'\n\\item 'mtarjeta\\_visa\\_consumo'\n\\item 'mtarjeta\\_master\\_consumo'\n\\item 'mprestamos\\_personales'\n\\item 'cpayroll\\_trx'\n\\item 'mpayroll'\n\\item 'ccomisiones\\_mantenimiento'\n\\item 'ccallcenter\\_transacciones'\n\\item 'chomebanking\\_transacciones'\n\\item 'ctrx\\_quarter'\n\\item 'Master\\_status'\n\\item 'Master\\_fechaalta'\n\\item 'Master\\_mpagominimo'\n\\item 'Visa\\_status'\n\\item 'Visa\\_fechaalta'\n\\item 'Visa\\_mpagominimo'\n\\item 'clase\\_ternaria'\n\\end{enumerate*}\n",
            "text/plain": [
              " [1] \"numero_de_cliente\"           \"foto_mes\"                   \n",
              " [3] \"internet\"                    \"cliente_edad\"               \n",
              " [5] \"cliente_antiguedad\"          \"mrentabilidad\"              \n",
              " [7] \"mrentabilidad_annual\"        \"mcomisiones\"                \n",
              " [9] \"mactivos_margen\"             \"mpasivos_margen\"            \n",
              "[11] \"cproductos\"                  \"mcuenta_corriente\"          \n",
              "[13] \"mcaja_ahorro\"                \"cdescubierto_preacordado\"   \n",
              "[15] \"mcuentas_saldo\"              \"ctarjeta_visa_transacciones\"\n",
              "[17] \"mtarjeta_visa_consumo\"       \"mtarjeta_master_consumo\"    \n",
              "[19] \"mprestamos_personales\"       \"cpayroll_trx\"               \n",
              "[21] \"mpayroll\"                    \"ccomisiones_mantenimiento\"  \n",
              "[23] \"ccallcenter_transacciones\"   \"chomebanking_transacciones\" \n",
              "[25] \"ctrx_quarter\"                \"Master_status\"              \n",
              "[27] \"Master_fechaalta\"            \"Master_mpagominimo\"         \n",
              "[29] \"Visa_status\"                 \"Visa_fechaalta\"             \n",
              "[31] \"Visa_mpagominimo\"            \"clase_ternaria\"             "
            ]
          },
          "metadata": {}
        }
      ]
    },
    {
      "cell_type": "markdown",
      "source": [
        "#### 6.3.1.3  FE_intra_manual Feature Engineering intra-mes\n",
        "\n",
        "Agrego campos nuevos dentro del mismo mes, SIN considerar la historia."
      ],
      "metadata": {
        "id": "7sppIDYeSn5X"
      },
      "id": "7sppIDYeSn5X"
    },
    {
      "cell_type": "code",
      "source": [
        "# esta funcion atributos presentes existe debido a que las modalidades poseen datasets con distinta cantidad de campos\n",
        "atributos_presentes <- function( patributos )\n",
        "{\n",
        "  atributos <- unique( patributos )\n",
        "  comun <- intersect( atributos, colnames(dataset) )\n",
        "\n",
        "  return(  length( atributos ) == length( comun ) )\n",
        "}\n",
        "\n",
        "# el mes 1,2, ..12\n",
        "if( atributos_presentes( c(\"foto_mes\") ))\n",
        "  dataset[, kmes := foto_mes %% 100]\n",
        "\n",
        "# variable extraida de una tesis de maestria de Irlanda\n",
        "if( atributos_presentes( c(\"mpayroll\", \"cliente_edad\") ))\n",
        "  dataset[, mpayroll_sobre_edad := mpayroll / cliente_edad]\n"
      ],
      "metadata": {
        "id": "qrqf3j3_St3p"
      },
      "id": "qrqf3j3_St3p",
      "execution_count": 38,
      "outputs": []
    },
    {
      "cell_type": "code",
      "source": [
        "# visualizo las columas del dataset a esta etapa\n",
        "colnames(dataset)"
      ],
      "metadata": {
        "id": "iC4viwOdY5Kp",
        "outputId": "8f6f6c8e-1455-4991-8184-bf497f8a70d8",
        "colab": {
          "base_uri": "https://localhost:8080/",
          "height": 69
        }
      },
      "id": "iC4viwOdY5Kp",
      "execution_count": 39,
      "outputs": [
        {
          "output_type": "display_data",
          "data": {
            "text/html": [
              "<style>\n",
              ".list-inline {list-style: none; margin:0; padding: 0}\n",
              ".list-inline>li {display: inline-block}\n",
              ".list-inline>li:not(:last-child)::after {content: \"\\00b7\"; padding: 0 .5ex}\n",
              "</style>\n",
              "<ol class=list-inline><li>'numero_de_cliente'</li><li>'foto_mes'</li><li>'internet'</li><li>'cliente_edad'</li><li>'cliente_antiguedad'</li><li>'mrentabilidad'</li><li>'mrentabilidad_annual'</li><li>'mcomisiones'</li><li>'mactivos_margen'</li><li>'mpasivos_margen'</li><li>'cproductos'</li><li>'mcuenta_corriente'</li><li>'mcaja_ahorro'</li><li>'cdescubierto_preacordado'</li><li>'mcuentas_saldo'</li><li>'ctarjeta_visa_transacciones'</li><li>'mtarjeta_visa_consumo'</li><li>'mtarjeta_master_consumo'</li><li>'mprestamos_personales'</li><li>'cpayroll_trx'</li><li>'mpayroll'</li><li>'ccomisiones_mantenimiento'</li><li>'ccallcenter_transacciones'</li><li>'chomebanking_transacciones'</li><li>'ctrx_quarter'</li><li>'Master_status'</li><li>'Master_fechaalta'</li><li>'Master_mpagominimo'</li><li>'Visa_status'</li><li>'Visa_fechaalta'</li><li>'Visa_mpagominimo'</li><li>'clase_ternaria'</li><li>'kmes'</li><li>'mpayroll_sobre_edad'</li></ol>\n"
            ],
            "text/markdown": "1. 'numero_de_cliente'\n2. 'foto_mes'\n3. 'internet'\n4. 'cliente_edad'\n5. 'cliente_antiguedad'\n6. 'mrentabilidad'\n7. 'mrentabilidad_annual'\n8. 'mcomisiones'\n9. 'mactivos_margen'\n10. 'mpasivos_margen'\n11. 'cproductos'\n12. 'mcuenta_corriente'\n13. 'mcaja_ahorro'\n14. 'cdescubierto_preacordado'\n15. 'mcuentas_saldo'\n16. 'ctarjeta_visa_transacciones'\n17. 'mtarjeta_visa_consumo'\n18. 'mtarjeta_master_consumo'\n19. 'mprestamos_personales'\n20. 'cpayroll_trx'\n21. 'mpayroll'\n22. 'ccomisiones_mantenimiento'\n23. 'ccallcenter_transacciones'\n24. 'chomebanking_transacciones'\n25. 'ctrx_quarter'\n26. 'Master_status'\n27. 'Master_fechaalta'\n28. 'Master_mpagominimo'\n29. 'Visa_status'\n30. 'Visa_fechaalta'\n31. 'Visa_mpagominimo'\n32. 'clase_ternaria'\n33. 'kmes'\n34. 'mpayroll_sobre_edad'\n\n\n",
            "text/latex": "\\begin{enumerate*}\n\\item 'numero\\_de\\_cliente'\n\\item 'foto\\_mes'\n\\item 'internet'\n\\item 'cliente\\_edad'\n\\item 'cliente\\_antiguedad'\n\\item 'mrentabilidad'\n\\item 'mrentabilidad\\_annual'\n\\item 'mcomisiones'\n\\item 'mactivos\\_margen'\n\\item 'mpasivos\\_margen'\n\\item 'cproductos'\n\\item 'mcuenta\\_corriente'\n\\item 'mcaja\\_ahorro'\n\\item 'cdescubierto\\_preacordado'\n\\item 'mcuentas\\_saldo'\n\\item 'ctarjeta\\_visa\\_transacciones'\n\\item 'mtarjeta\\_visa\\_consumo'\n\\item 'mtarjeta\\_master\\_consumo'\n\\item 'mprestamos\\_personales'\n\\item 'cpayroll\\_trx'\n\\item 'mpayroll'\n\\item 'ccomisiones\\_mantenimiento'\n\\item 'ccallcenter\\_transacciones'\n\\item 'chomebanking\\_transacciones'\n\\item 'ctrx\\_quarter'\n\\item 'Master\\_status'\n\\item 'Master\\_fechaalta'\n\\item 'Master\\_mpagominimo'\n\\item 'Visa\\_status'\n\\item 'Visa\\_fechaalta'\n\\item 'Visa\\_mpagominimo'\n\\item 'clase\\_ternaria'\n\\item 'kmes'\n\\item 'mpayroll\\_sobre\\_edad'\n\\end{enumerate*}\n",
            "text/plain": [
              " [1] \"numero_de_cliente\"           \"foto_mes\"                   \n",
              " [3] \"internet\"                    \"cliente_edad\"               \n",
              " [5] \"cliente_antiguedad\"          \"mrentabilidad\"              \n",
              " [7] \"mrentabilidad_annual\"        \"mcomisiones\"                \n",
              " [9] \"mactivos_margen\"             \"mpasivos_margen\"            \n",
              "[11] \"cproductos\"                  \"mcuenta_corriente\"          \n",
              "[13] \"mcaja_ahorro\"                \"cdescubierto_preacordado\"   \n",
              "[15] \"mcuentas_saldo\"              \"ctarjeta_visa_transacciones\"\n",
              "[17] \"mtarjeta_visa_consumo\"       \"mtarjeta_master_consumo\"    \n",
              "[19] \"mprestamos_personales\"       \"cpayroll_trx\"               \n",
              "[21] \"mpayroll\"                    \"ccomisiones_mantenimiento\"  \n",
              "[23] \"ccallcenter_transacciones\"   \"chomebanking_transacciones\" \n",
              "[25] \"ctrx_quarter\"                \"Master_status\"              \n",
              "[27] \"Master_fechaalta\"            \"Master_mpagominimo\"         \n",
              "[29] \"Visa_status\"                 \"Visa_fechaalta\"             \n",
              "[31] \"Visa_mpagominimo\"            \"clase_ternaria\"             \n",
              "[33] \"kmes\"                        \"mpayroll_sobre_edad\"        "
            ]
          },
          "metadata": {}
        }
      ]
    },
    {
      "cell_type": "markdown",
      "id": "9682b4ca-3ab3-4bbc-a36a-b185361e6b6b",
      "metadata": {
        "id": "9682b4ca-3ab3-4bbc-a36a-b185361e6b6b"
      },
      "source": [
        "#### 6.3.1.4  FE_rf Feature Engineering de nuevas variables a partir de hojas de Random Forest\n",
        "\n",
        "Esto se mostrará unicamente a la *modalidad Analista Sr*"
      ]
    },
    {
      "cell_type": "code",
      "source": [
        "# No se implementa Feature Engineering a partir de Random Forest"
      ],
      "metadata": {
        "id": "ljA3h0jOcciP"
      },
      "id": "ljA3h0jOcciP",
      "execution_count": null,
      "outputs": []
    },
    {
      "cell_type": "markdown",
      "source": [
        "#### 6.3.1.5  FEhist Feature Engineering historico\n",
        "\n",
        "El Fature Engineering Histórico es la etapa que más aporta a la ganancia final, ya que enriquece cada registro del dataset con su historia."
      ],
      "metadata": {
        "id": "XaRBjQj8ZRUZ"
      },
      "id": "XaRBjQj8ZRUZ"
    },
    {
      "cell_type": "markdown",
      "id": "cfe3b8cf-0707-4512-92e7-c1407bb3f73b",
      "metadata": {
        "id": "cfe3b8cf-0707-4512-92e7-c1407bb3f73b"
      },
      "source": [
        "Para cada campo del dataset original (*)\n",
        "se crean lo siguientes campos de a partir de la historia\n",
        "* lag1  lags de orden 1\n",
        "* delta1  =  valor actual - lag1\n",
        "* lag2  lags de orden 2\n",
        "* delta2  = valor actual - lag2\n",
        "\n",
        "\n",
        "(*) Excepto para los campos  <numero_de_cliente,  foto_mes,  clase_ternaria>"
      ]
    },
    {
      "cell_type": "code",
      "execution_count": null,
      "id": "7850b948-827d-4a2a-b4d3-a5e459b47c11",
      "metadata": {
        "id": "7850b948-827d-4a2a-b4d3-a5e459b47c11"
      },
      "outputs": [],
      "source": [
        "# Feature Engineering Historico\n",
        "\n",
        "# todo es lagueable, menos la primary key y la clase\n",
        "cols_lagueables <- copy( setdiff(\n",
        "    colnames(dataset),\n",
        "    c(\"numero_de_cliente\", \"foto_mes\", \"clase_ternaria\")\n",
        ") )\n",
        "\n",
        "# https://rdrr.io/cran/data.table/man/shift.html\n",
        "\n",
        "# lags de orden 1\n",
        "dataset[,\n",
        "    paste0(cols_lagueables, \"_lag1\") := shift(.SD, 1, NA, \"lag\"),\n",
        "    by = numero_de_cliente,\n",
        "    .SDcols = cols_lagueables\n",
        "]\n",
        "\n",
        "# lags de orden 2\n",
        "dataset[,\n",
        "    paste0(cols_lagueables, \"_lag2\") := shift(.SD, 2, NA, \"lag\"),\n",
        "    by = numero_de_cliente,\n",
        "    .SDcols = cols_lagueables\n",
        "]\n",
        "\n",
        "# agrego los delta lags\n",
        "for (vcol in cols_lagueables)\n",
        "{\n",
        "    dataset[, paste0(vcol, \"_delta1\") := get(vcol) - get(paste0(vcol, \"_lag1\"))]\n",
        "    dataset[, paste0(vcol, \"_delta2\") := get(vcol) - get(paste0(vcol, \"_lag2\"))]\n",
        "}\n"
      ]
    },
    {
      "cell_type": "markdown",
      "id": "cea690d9-ece9-4852-a5e2-f337c31b6721",
      "metadata": {
        "id": "cea690d9-ece9-4852-a5e2-f337c31b6721"
      },
      "source": [
        "Verificacion de los campos recien creados"
      ]
    },
    {
      "cell_type": "code",
      "execution_count": 40,
      "id": "f772896b-595a-47d4-8905-c15304ac9452",
      "metadata": {
        "id": "f772896b-595a-47d4-8905-c15304ac9452",
        "outputId": "36230ae2-0f13-4915-bed0-60e339ff6cd1",
        "colab": {
          "base_uri": "https://localhost:8080/",
          "height": 86
        }
      },
      "outputs": [
        {
          "output_type": "display_data",
          "data": {
            "text/html": [
              "34"
            ],
            "text/markdown": "34",
            "text/latex": "34",
            "text/plain": [
              "[1] 34"
            ]
          },
          "metadata": {}
        },
        {
          "output_type": "display_data",
          "data": {
            "text/html": [
              "<style>\n",
              ".list-inline {list-style: none; margin:0; padding: 0}\n",
              ".list-inline>li {display: inline-block}\n",
              ".list-inline>li:not(:last-child)::after {content: \"\\00b7\"; padding: 0 .5ex}\n",
              "</style>\n",
              "<ol class=list-inline><li>'numero_de_cliente'</li><li>'foto_mes'</li><li>'internet'</li><li>'cliente_edad'</li><li>'cliente_antiguedad'</li><li>'mrentabilidad'</li><li>'mrentabilidad_annual'</li><li>'mcomisiones'</li><li>'mactivos_margen'</li><li>'mpasivos_margen'</li><li>'cproductos'</li><li>'mcuenta_corriente'</li><li>'mcaja_ahorro'</li><li>'cdescubierto_preacordado'</li><li>'mcuentas_saldo'</li><li>'ctarjeta_visa_transacciones'</li><li>'mtarjeta_visa_consumo'</li><li>'mtarjeta_master_consumo'</li><li>'mprestamos_personales'</li><li>'cpayroll_trx'</li><li>'mpayroll'</li><li>'ccomisiones_mantenimiento'</li><li>'ccallcenter_transacciones'</li><li>'chomebanking_transacciones'</li><li>'ctrx_quarter'</li><li>'Master_status'</li><li>'Master_fechaalta'</li><li>'Master_mpagominimo'</li><li>'Visa_status'</li><li>'Visa_fechaalta'</li><li>'Visa_mpagominimo'</li><li>'clase_ternaria'</li><li>'kmes'</li><li>'mpayroll_sobre_edad'</li></ol>\n"
            ],
            "text/markdown": "1. 'numero_de_cliente'\n2. 'foto_mes'\n3. 'internet'\n4. 'cliente_edad'\n5. 'cliente_antiguedad'\n6. 'mrentabilidad'\n7. 'mrentabilidad_annual'\n8. 'mcomisiones'\n9. 'mactivos_margen'\n10. 'mpasivos_margen'\n11. 'cproductos'\n12. 'mcuenta_corriente'\n13. 'mcaja_ahorro'\n14. 'cdescubierto_preacordado'\n15. 'mcuentas_saldo'\n16. 'ctarjeta_visa_transacciones'\n17. 'mtarjeta_visa_consumo'\n18. 'mtarjeta_master_consumo'\n19. 'mprestamos_personales'\n20. 'cpayroll_trx'\n21. 'mpayroll'\n22. 'ccomisiones_mantenimiento'\n23. 'ccallcenter_transacciones'\n24. 'chomebanking_transacciones'\n25. 'ctrx_quarter'\n26. 'Master_status'\n27. 'Master_fechaalta'\n28. 'Master_mpagominimo'\n29. 'Visa_status'\n30. 'Visa_fechaalta'\n31. 'Visa_mpagominimo'\n32. 'clase_ternaria'\n33. 'kmes'\n34. 'mpayroll_sobre_edad'\n\n\n",
            "text/latex": "\\begin{enumerate*}\n\\item 'numero\\_de\\_cliente'\n\\item 'foto\\_mes'\n\\item 'internet'\n\\item 'cliente\\_edad'\n\\item 'cliente\\_antiguedad'\n\\item 'mrentabilidad'\n\\item 'mrentabilidad\\_annual'\n\\item 'mcomisiones'\n\\item 'mactivos\\_margen'\n\\item 'mpasivos\\_margen'\n\\item 'cproductos'\n\\item 'mcuenta\\_corriente'\n\\item 'mcaja\\_ahorro'\n\\item 'cdescubierto\\_preacordado'\n\\item 'mcuentas\\_saldo'\n\\item 'ctarjeta\\_visa\\_transacciones'\n\\item 'mtarjeta\\_visa\\_consumo'\n\\item 'mtarjeta\\_master\\_consumo'\n\\item 'mprestamos\\_personales'\n\\item 'cpayroll\\_trx'\n\\item 'mpayroll'\n\\item 'ccomisiones\\_mantenimiento'\n\\item 'ccallcenter\\_transacciones'\n\\item 'chomebanking\\_transacciones'\n\\item 'ctrx\\_quarter'\n\\item 'Master\\_status'\n\\item 'Master\\_fechaalta'\n\\item 'Master\\_mpagominimo'\n\\item 'Visa\\_status'\n\\item 'Visa\\_fechaalta'\n\\item 'Visa\\_mpagominimo'\n\\item 'clase\\_ternaria'\n\\item 'kmes'\n\\item 'mpayroll\\_sobre\\_edad'\n\\end{enumerate*}\n",
            "text/plain": [
              " [1] \"numero_de_cliente\"           \"foto_mes\"                   \n",
              " [3] \"internet\"                    \"cliente_edad\"               \n",
              " [5] \"cliente_antiguedad\"          \"mrentabilidad\"              \n",
              " [7] \"mrentabilidad_annual\"        \"mcomisiones\"                \n",
              " [9] \"mactivos_margen\"             \"mpasivos_margen\"            \n",
              "[11] \"cproductos\"                  \"mcuenta_corriente\"          \n",
              "[13] \"mcaja_ahorro\"                \"cdescubierto_preacordado\"   \n",
              "[15] \"mcuentas_saldo\"              \"ctarjeta_visa_transacciones\"\n",
              "[17] \"mtarjeta_visa_consumo\"       \"mtarjeta_master_consumo\"    \n",
              "[19] \"mprestamos_personales\"       \"cpayroll_trx\"               \n",
              "[21] \"mpayroll\"                    \"ccomisiones_mantenimiento\"  \n",
              "[23] \"ccallcenter_transacciones\"   \"chomebanking_transacciones\" \n",
              "[25] \"ctrx_quarter\"                \"Master_status\"              \n",
              "[27] \"Master_fechaalta\"            \"Master_mpagominimo\"         \n",
              "[29] \"Visa_status\"                 \"Visa_fechaalta\"             \n",
              "[31] \"Visa_mpagominimo\"            \"clase_ternaria\"             \n",
              "[33] \"kmes\"                        \"mpayroll_sobre_edad\"        "
            ]
          },
          "metadata": {}
        }
      ],
      "source": [
        "ncol(dataset)\n",
        "colnames(dataset)"
      ]
    },
    {
      "cell_type": "markdown",
      "source": [
        "#### 6.3.1.6  FEhist Reduccion dimensionalidad con canaritos\n",
        "\n",
        "Esta etapa solo se mostrará a la *modalidad Anlista Sr* por algun canal secreto de forma de no confundir a los *Analista Jr*  nni distraer con detalles operativos a la estratégica *Modalidad Gerencial*"
      ],
      "metadata": {
        "id": "l8mKij0XaDY0"
      },
      "id": "l8mKij0XaDY0"
    },
    {
      "cell_type": "code",
      "source": [
        "# No se implementa la reduccion de la dimensionalidad con canaritos"
      ],
      "metadata": {
        "id": "QrmnPtlBcEgx"
      },
      "id": "QrmnPtlBcEgx",
      "execution_count": null,
      "outputs": []
    },
    {
      "cell_type": "markdown",
      "id": "cf91ea5e-3341-4afb-8d05-cc4923d3d1e1",
      "metadata": {
        "id": "cf91ea5e-3341-4afb-8d05-cc4923d3d1e1"
      },
      "source": [
        "### 6.3.2 Modelado"
      ]
    },
    {
      "cell_type": "markdown",
      "id": "526048e4-8cf2-4023-bd2d-a70e4e9ff157",
      "metadata": {
        "id": "526048e4-8cf2-4023-bd2d-a70e4e9ff157"
      },
      "source": [
        "#### 6.3.2.1 Training Strategy\n",
        "\n",
        "Esta etapa de Workflow de  Training Strategy esta pensada para la *Modalidad Gerencial* que posee el dataset de [202005, 202109]\n",
        "<br> Si usted es un Analista, posee el periodo de [201901, 202109] y deberá experimentar en que meses le conviene experimentar\n",
        "\n",
        "<br> A la *Modalidad Gerencial* no se le complicada la vida con el undersampling de los continua, por eso PARAM$trainingstrategy$training_pct <- 1.0\n",
        "<br> Sin embargo, si usted es  *Analista SR* posee un dataset 50 veces ( filas x columnas) más grande que la *Modalidad Gerencial*  y por un tema de velocidad y experimentación más rápida puede llegar a necesitar activar el undersampling de la clase mayoritaria, a pesar de estar corriendo en Google Cloud."
      ]
    },
    {
      "cell_type": "markdown",
      "id": "f16bc1c1-b3ea-43ca-9d3c-53f8f9ab8ec1",
      "metadata": {
        "id": "f16bc1c1-b3ea-43ca-9d3c-53f8f9ab8ec1"
      },
      "source": [
        "Se hace una estrategia de entrenamiento muy sencilla, tomando todos los meses posibles, SIN eliminar nada x pandemia ni por ningun otro motivo\n",
        "\n",
        "* future = 202109  obviamente completo\n",
        "\n",
        "* final_train =  [ 202005, 202107 ]  SIN undersampling\n",
        "\n",
        "* training\n",
        "   * testing = NO HAY\n",
        "   * validation =  202107   completo, sin undersampling\n",
        "   * training = [ 202005, 202106 ]  donde se consideran el 100% de los CONTINUA"
      ]
    },
    {
      "cell_type": "code",
      "execution_count": 41,
      "id": "2c9c0a42-ba58-4264-8566-091a6161716f",
      "metadata": {
        "id": "2c9c0a42-ba58-4264-8566-091a6161716f"
      },
      "outputs": [],
      "source": [
        "PARAM$trainingstrategy$validate <- c(202107)\n",
        "\n",
        "PARAM$trainingstrategy$training <- c(\n",
        "  202106, 202105, 202104, 202103, 202102, 202101,\n",
        "  202012, 202011, 202010, 202009, 202008, 202007,\n",
        "  202006, 202005\n",
        ")\n",
        "\n",
        "PARAM$trainingstrategy$training_pct <- 1.0\n",
        "\n",
        "\n",
        "PARAM$trainingstrategy$positivos <- c( \"BAJA+1\", \"BAJA+2\")"
      ]
    },
    {
      "cell_type": "code",
      "source": [
        "# seteo la clase01   1={BAJA+1, BAJA+2}   0={CONTINUA}\n",
        "dataset[, clase01 := ifelse( clase_ternaria %in% PARAM$trainingstrategy$positivos, 1, 0 )]"
      ],
      "metadata": {
        "id": "tv_trHWAj4a8"
      },
      "id": "tv_trHWAj4a8",
      "execution_count": 42,
      "outputs": []
    },
    {
      "cell_type": "code",
      "source": [
        "# los campos en los que se entrena\n",
        "campos_buenos <- copy( setdiff(\n",
        "    colnames(dataset), c(\"clase_ternaria\",\"clase01\",\"azar\"))\n",
        ")"
      ],
      "metadata": {
        "id": "Ud_XDKSIj8f_"
      },
      "id": "Ud_XDKSIj8f_",
      "execution_count": 43,
      "outputs": []
    },
    {
      "cell_type": "code",
      "source": [
        "# preparo para que se puede hacer undersampling de los CONTINUA\n",
        "#  solamente por un tema de VELOCIDAD\n",
        "set.seed(PARAM$semilla_primigenia, kind = \"L'Ecuyer-CMRG\")\n",
        "dataset[, azar:=runif(nrow(dataset))]\n",
        "\n",
        "# undersampling de los CONTINUA\n",
        "dataset[, fold_train :=  foto_mes %in%  PARAM$trainingstrategy$training &\n",
        "    (clase_ternaria %in% c(\"BAJA+1\", \"BAJA+2\") |\n",
        "     azar < PARAM$trainingstrategy$training_pct ) ]\n",
        "\n",
        "\n",
        "if( !require(\"lightgbm\")) install.packages(\"lightgbm\")\n",
        "require(\"lightgbm\")\n",
        "\n",
        "dtrain <- lgb.Dataset(\n",
        "  data= data.matrix(dataset[fold_train == TRUE, campos_buenos, with = FALSE]),\n",
        "  label= dataset[fold_train == TRUE, clase01],\n",
        "  free_raw_data= TRUE\n",
        ")"
      ],
      "metadata": {
        "id": "rFKgZZPSj_Pa",
        "outputId": "de000802-3d2e-4982-aa45-a5daef0b8399",
        "colab": {
          "base_uri": "https://localhost:8080/"
        }
      },
      "id": "rFKgZZPSj_Pa",
      "execution_count": 44,
      "outputs": [
        {
          "output_type": "stream",
          "name": "stderr",
          "text": [
            "Loading required package: lightgbm\n",
            "\n",
            "Warning message in library(package, lib.loc = lib.loc, character.only = TRUE, logical.return = TRUE, :\n",
            "“there is no package called ‘lightgbm’”\n",
            "Installing package into ‘/usr/local/lib/R/site-library’\n",
            "(as ‘lib’ is unspecified)\n",
            "\n",
            "Loading required package: lightgbm\n",
            "\n"
          ]
        }
      ]
    },
    {
      "cell_type": "code",
      "source": [
        "# datos de validation\n",
        "dvalidate <- lgb.Dataset(\n",
        "  data= data.matrix(dataset[foto_mes %in% PARAM$trainingstrategy$validate, campos_buenos, with = FALSE]),\n",
        "  label= dataset[foto_mes %in% PARAM$trainingstrategy$validate, clase01],\n",
        "  free_raw_data= TRUE\n",
        ")\n",
        "\n",
        "nrow(dvalidate)"
      ],
      "metadata": {
        "id": "B3yo98kQkHcP",
        "outputId": "9675dae5-a5ba-4413-e2eb-70610279e1a7",
        "colab": {
          "base_uri": "https://localhost:8080/",
          "height": 34
        }
      },
      "id": "B3yo98kQkHcP",
      "execution_count": 45,
      "outputs": [
        {
          "output_type": "display_data",
          "data": {
            "text/html": [
              "177"
            ],
            "text/markdown": "177",
            "text/latex": "177",
            "text/plain": [
              "[1] 177"
            ]
          },
          "metadata": {}
        }
      ]
    },
    {
      "cell_type": "markdown",
      "id": "28e8f788-551c-4e50-9029-302ac0834287",
      "metadata": {
        "id": "28e8f788-551c-4e50-9029-302ac0834287"
      },
      "source": [
        "####  6.3.2.2. Hyperparameter Tuning"
      ]
    },
    {
      "cell_type": "markdown",
      "id": "bf5fc836-e222-4aeb-a6a8-157346895ef7",
      "metadata": {
        "id": "bf5fc836-e222-4aeb-a6a8-157346895ef7"
      },
      "source": [
        "* Clase binaria que se optimiza :  positivos = [ BAJA+1, BAJA+2 ]"
      ]
    },
    {
      "cell_type": "markdown",
      "id": "885c03b5-77bc-4510-a930-0d1f14b52ffb",
      "metadata": {
        "id": "885c03b5-77bc-4510-a930-0d1f14b52ffb"
      },
      "source": [
        "* Metrica que se optimiza **AUC** Area Under Curve de la  ROC Curve\n",
        "\n",
        "es muy importante notar que intencionalmente  **NO** se está optimizando la funcion de ganancia del problema"
      ]
    },
    {
      "cell_type": "markdown",
      "id": "b7e6f95c-66ef-4ab9-9ba3-fcc099816704",
      "metadata": {
        "id": "b7e6f95c-66ef-4ab9-9ba3-fcc099816704"
      },
      "source": [
        "* Cantidad de iteraciones inteligentes de la Optimizacion Bayesiana = **10**"
      ]
    },
    {
      "cell_type": "markdown",
      "id": "fe047a87-e2d0-4418-97dd-0a881e66d73a",
      "metadata": {
        "id": "fe047a87-e2d0-4418-97dd-0a881e66d73a"
      },
      "source": [
        "* Parametros no default, fijos de LightGBM que no se optimizan\n",
        "  * max_bin = 31 , Alienigenas Ancestrales contruyeron las pirámides y dejaron a la humanidad en un jeroglifico  *max_bin=31*\n",
        "  * feature_fraction = 0.5  para poner algo que generalmente no falla\n",
        "  * learning_rate = 0.03  para que aprenda lento\n"
      ]
    },
    {
      "cell_type": "markdown",
      "id": "1e7da08e-fe57-4681-beff-11fe963116bd",
      "metadata": {
        "id": "1e7da08e-fe57-4681-beff-11fe963116bd"
      },
      "source": [
        "* Parametros que se optimizan en la Bayesian Optimization\n",
        "  * num_leaves  [8, 256]\n",
        "  * min_data_in_leaf  [8, 8192]"
      ]
    },
    {
      "cell_type": "code",
      "source": [
        "# paquetes necesarios para la Bayesian Optimization\n",
        "if(!require(\"DiceKriging\")) install.packages(\"DiceKriging\")\n",
        "require(\"DiceKriging\")\n",
        "\n",
        "if(!require(\"mlrMBO\")) install.packages(\"mlrMBO\")\n",
        "require(\"mlrMBO\")"
      ],
      "metadata": {
        "id": "34V6y4GetKq_",
        "outputId": "86535d77-8ce5-48ea-c39d-e51c8ed391ab",
        "colab": {
          "base_uri": "https://localhost:8080/"
        }
      },
      "id": "34V6y4GetKq_",
      "execution_count": 46,
      "outputs": [
        {
          "output_type": "stream",
          "name": "stderr",
          "text": [
            "Loading required package: DiceKriging\n",
            "\n",
            "Warning message in library(package, lib.loc = lib.loc, character.only = TRUE, logical.return = TRUE, :\n",
            "“there is no package called ‘DiceKriging’”\n",
            "Installing package into ‘/usr/local/lib/R/site-library’\n",
            "(as ‘lib’ is unspecified)\n",
            "\n",
            "Loading required package: DiceKriging\n",
            "\n",
            "Loading required package: mlrMBO\n",
            "\n",
            "Warning message in library(package, lib.loc = lib.loc, character.only = TRUE, logical.return = TRUE, :\n",
            "“there is no package called ‘mlrMBO’”\n",
            "Installing package into ‘/usr/local/lib/R/site-library’\n",
            "(as ‘lib’ is unspecified)\n",
            "\n",
            "also installing the dependencies ‘XML’, ‘fastmatch’, ‘RcppArmadillo’, ‘mlr’, ‘ParamHelpers’, ‘smoof’, ‘BBmisc’, ‘checkmate’, ‘lhs’, ‘parallelMap’\n",
            "\n",
            "\n",
            "Loading required package: mlrMBO\n",
            "\n",
            "Loading required package: mlr\n",
            "\n",
            "Loading required package: ParamHelpers\n",
            "\n",
            "\n",
            "Attaching package: ‘ParamHelpers’\n",
            "\n",
            "\n",
            "The following object is masked from ‘package:R.utils’:\n",
            "\n",
            "    isVector\n",
            "\n",
            "\n",
            "\n",
            "Attaching package: ‘mlr’\n",
            "\n",
            "\n",
            "The following objects are masked from ‘package:R.utils’:\n",
            "\n",
            "    resample, setThreshold\n",
            "\n",
            "\n",
            "Loading required package: smoof\n",
            "\n",
            "Loading required package: checkmate\n",
            "\n",
            "\n",
            "Attaching package: ‘checkmate’\n",
            "\n",
            "\n",
            "The following object is masked from ‘package:DiceKriging’:\n",
            "\n",
            "    checkNames\n",
            "\n",
            "\n",
            "The following object is masked from ‘package:R.utils’:\n",
            "\n",
            "    asInt\n",
            "\n",
            "\n",
            "\n",
            "Attaching package: ‘smoof’\n",
            "\n",
            "\n",
            "The following objects are masked from ‘package:R.oo’:\n",
            "\n",
            "    getDescription, getName\n",
            "\n",
            "\n"
          ]
        }
      ]
    },
    {
      "cell_type": "markdown",
      "source": [
        "Definición de la Bayesian Optimization\n",
        "<br> Si se desea optimizar un hiperparámetro que esta como fijo, debe QUITARSE de param_fijos y agregarse a PARAM$hipeparametertuning$hs"
      ],
      "metadata": {
        "id": "UFbDSYtH0TTT"
      },
      "id": "UFbDSYtH0TTT"
    },
    {
      "cell_type": "code",
      "source": [
        "# valor ridiculamente bajo para que corra rapido en el aula y no molestar a la *Modalidad Gerencial*\n",
        "PARAM$hipeparametertuning$num_interations <- 50\n",
        "\n",
        "# parametros fijos del LightGBM\n",
        "PARAM$lgbm$param_fijos <- list(\n",
        "  objective= \"binary\",\n",
        "  metric= \"auc\",\n",
        "  first_metric_only= TRUE,\n",
        "  boost_from_average= TRUE,\n",
        "  feature_pre_filter= FALSE,\n",
        "  verbosity= -100,\n",
        "  force_row_wise= TRUE, # para evitar warning\n",
        "  seed= PARAM$semilla_primigenia,\n",
        "  max_bin= 31,\n",
        "  learning_rate= 0.04,\n",
        "  feature_fraction= 0.5,\n",
        "  num_iterations= 2048,  # valor grande, lo limita early_stopping_rounds\n",
        "  early_stopping_rounds= 200\n",
        ")\n",
        "\n",
        "PARAM$hipeparametertuning$hs <- makeParamSet(\n",
        "  makeIntegerParam(\"num_leaves\", lower = 2L, upper = 256L),\n",
        "  makeIntegerParam(\"min_data_in_leaf\", lower = 2L, upper = 8192L)\n",
        ")"
      ],
      "metadata": {
        "id": "5Uag3XGHqrfZ"
      },
      "id": "5Uag3XGHqrfZ",
      "execution_count": 47,
      "outputs": []
    },
    {
      "cell_type": "markdown",
      "source": [
        "Función \"señora caja negra\"  que es llamada para verificar la realidad por la Bayesian Optimization"
      ],
      "metadata": {
        "id": "FEa1UuuAz4yj"
      },
      "id": "FEa1UuuAz4yj"
    },
    {
      "cell_type": "code",
      "execution_count": 48,
      "id": "2c10f535-8d90-47d1-ac3d-9b4c24ec21d2",
      "metadata": {
        "id": "2c10f535-8d90-47d1-ac3d-9b4c24ec21d2"
      },
      "outputs": [],
      "source": [
        "# En  x llegan los parmaetros de la bayesiana\n",
        "#  devuelve la AUC en validate del modelo entrenado\n",
        "#  en el parametro x llegan los hiperparámetros que se estan optimizando\n",
        "\n",
        "EstimarGanancia_AUC_lightgbm <- function(x) {\n",
        "\n",
        "  # x pisa (o agrega) a param_fijos\n",
        "  param_completo <- modifyList(PARAM$lgbm$param_fijos, x)\n",
        "\n",
        "  # entreno LightGBM\n",
        "  modelo_train <- lgb.train(\n",
        "    data= dtrain,\n",
        "    valids= list(valid = dvalidate),\n",
        "    eval= \"auc\",\n",
        "    param= param_completo,\n",
        "    verbose= -100\n",
        "  )\n",
        "\n",
        "  # recupero la AUC en validation\n",
        "  AUC <- modelo_train$record_evals$valid$auc$eval[[modelo_train$best_iter]]\n",
        "\n",
        "  # esta es la forma de devolver un parametro extra\n",
        "  attr(AUC, \"extras\") <- list(\"num_iterations\"= modelo_train$best_iter)\n",
        "\n",
        "  # hago espacio en la memoria\n",
        "  rm(modelo_train)\n",
        "  gc(full= TRUE, verbose= FALSE)\n",
        "\n",
        "  message(format(Sys.time(), \"%a %b %d %X %Y\"), \" AUC \", AUC)\n",
        "\n",
        "  return(AUC)\n",
        "}"
      ]
    },
    {
      "cell_type": "markdown",
      "id": "267a35d4-adaf-4271-a875-3864111333b7",
      "metadata": {
        "id": "267a35d4-adaf-4271-a875-3864111333b7"
      },
      "source": [
        "seteo de la Bayesian Optimization (complejo)\n",
        "<br> copiado y pegado de la documentación de la librería"
      ]
    },
    {
      "cell_type": "code",
      "execution_count": 49,
      "id": "43c2a92d-1041-46b8-bff2-47297f209ed2",
      "metadata": {
        "id": "43c2a92d-1041-46b8-bff2-47297f209ed2"
      },
      "outputs": [],
      "source": [
        "configureMlr(show.learner.output = FALSE)\n",
        "\n",
        "# configuro la busqueda bayesiana,  los hiperparametros que se van a optimizar\n",
        "# por favor, no desesperarse por lo complejo\n",
        "obj.fun <- makeSingleObjectiveFunction(\n",
        "    fn= EstimarGanancia_AUC_lightgbm, # la funcion que voy a maximizar\n",
        "    minimize= FALSE, # estoy Maximizando AUC\n",
        "    noisy= FALSE,\n",
        "    par.set= PARAM$hipeparametertuning$hs,\n",
        "    has.simple.signature= FALSE # paso los parametros en una lista\n",
        ")\n",
        "\n",
        "# cada 600 segundos guardo el resultado intermedio\n",
        "ctrl <- makeMBOControl(\n",
        "    save.on.disk.at.time= 600,\n",
        "    save.file.path= \"HT.RDATA\"\n",
        ")\n",
        "\n",
        "# indico la cantidad de iteraciones que va a tener la Bayesian Optimization\n",
        "ctrl <- setMBOControlTermination(\n",
        "    ctrl,\n",
        "    iters= PARAM$hipeparametertuning$num_interations  # cantidad de iteraciones inteligentes\n",
        ")\n",
        "\n",
        "# defino el método estandar para la creacion de los puntos iniciales\n",
        "#   los \"No Inteligentes\"\n",
        "ctrl <- setMBOControlInfill(ctrl, crit = makeMBOInfillCritEI())\n",
        "\n",
        "# mas configuraciones\n",
        "surr.km <- makeLearner(\n",
        "    \"regr.km\",\n",
        "    predict.type= \"se\",\n",
        "    covtype= \"matern3_2\",\n",
        "    control= list(trace = TRUE)\n",
        ")"
      ]
    },
    {
      "cell_type": "markdown",
      "id": "6c1e5645-d26f-4923-a53f-f30471a4c4e8",
      "metadata": {
        "id": "6c1e5645-d26f-4923-a53f-f30471a4c4e8"
      },
      "source": [
        "Corrida de la Bayesian Optimization,  aqui se hace el trabajo pesado\n",
        "<br> por favor no se asuste con los warnings que pudieran aparecer\n",
        "\n",
        "Si corrío a medias y llegó a las iteraciones inteligentes, en el archivo binario HT.RDATA quedó lo ya procesado y es utilizado para retomar la corrida desde lo último que llegó a grabar."
      ]
    },
    {
      "cell_type": "code",
      "execution_count": 50,
      "id": "1f8cab3f-c7e2-4802-bfd1-5ad509922a4e",
      "metadata": {
        "scrolled": true,
        "id": "1f8cab3f-c7e2-4802-bfd1-5ad509922a4e",
        "outputId": "c5b157c0-4583-4bcf-ab5c-cda277d86cf6",
        "colab": {
          "base_uri": "https://localhost:8080/"
        }
      },
      "outputs": [
        {
          "output_type": "stream",
          "name": "stderr",
          "text": [
            "Computing y column(s) for design. Not provided.\n",
            "\n",
            "Tue Aug 12 02:07:02 PM 2025 AUC 0.5\n",
            "\n",
            "Tue Aug 12 02:07:03 PM 2025 AUC 0.5\n",
            "\n",
            "Tue Aug 12 02:07:03 PM 2025 AUC 0.5\n",
            "\n",
            "Tue Aug 12 02:07:04 PM 2025 AUC 0.5\n",
            "\n",
            "Tue Aug 12 02:07:04 PM 2025 AUC 0.5\n",
            "\n",
            "Tue Aug 12 02:07:05 PM 2025 AUC 0.991428571428571\n",
            "\n",
            "Tue Aug 12 02:07:05 PM 2025 AUC 0.5\n",
            "\n",
            "Tue Aug 12 02:07:06 PM 2025 AUC 0.5\n",
            "\n",
            "[mbo] 0: num_leaves=115; min_data_in_leaf=4075 : y = 0.5 : 0.6 secs : initdesign\n",
            "\n",
            "[mbo] 0: num_leaves=195; min_data_in_leaf=5431 : y = 0.5 : 0.5 secs : initdesign\n",
            "\n",
            "[mbo] 0: num_leaves=163; min_data_in_leaf=2215 : y = 0.5 : 0.4 secs : initdesign\n",
            "\n",
            "[mbo] 0: num_leaves=90; min_data_in_leaf=6680 : y = 0.5 : 0.5 secs : initdesign\n",
            "\n",
            "[mbo] 0: num_leaves=47; min_data_in_leaf=1214 : y = 0.5 : 0.4 secs : initdesign\n",
            "\n",
            "[mbo] 0: num_leaves=237; min_data_in_leaf=376 : y = 0.991 : 0.6 secs : initdesign\n",
            "\n",
            "[mbo] 0: num_leaves=16; min_data_in_leaf=7981 : y = 0.5 : 0.5 secs : initdesign\n",
            "\n",
            "[mbo] 0: num_leaves=130; min_data_in_leaf=4320 : y = 0.5 : 0.5 secs : initdesign\n",
            "\n",
            "Warning message in generateDesign(control$infill.opt.focussearch.points, ps.local, :\n",
            "“generateDesign could only produce 963 points instead of 1000!”\n",
            "Warning message in generateDesign(control$infill.opt.focussearch.points, ps.local, :\n",
            "“generateDesign could only produce 129 points instead of 1000!”\n",
            "Warning message in generateDesign(control$infill.opt.focussearch.points, ps.local, :\n",
            "“generateDesign could only produce 997 points instead of 1000!”\n",
            "Warning message in generateDesign(control$infill.opt.focussearch.points, ps.local, :\n",
            "“generateDesign could only produce 117 points instead of 1000!”\n",
            "Warning message in generateDesign(control$infill.opt.focussearch.points, ps.local, :\n",
            "“generateDesign could only produce 977 points instead of 1000!”\n",
            "Warning message in generateDesign(control$infill.opt.focussearch.points, ps.local, :\n",
            "“generateDesign could only produce 114 points instead of 1000!”\n",
            "Tue Aug 12 02:07:08 PM 2025 AUC 0.985714285714286\n",
            "\n",
            "[mbo] 1: num_leaves=256; min_data_in_leaf=2 : y = 0.986 : 1.3 secs : infill_ei\n",
            "\n",
            "Warning message in generateDesign(control$infill.opt.focussearch.points, ps.local, :\n",
            "“generateDesign could only produce 540 points instead of 1000!”\n",
            "Warning message in generateDesign(control$infill.opt.focussearch.points, ps.local, :\n",
            "“generateDesign could only produce 777 points instead of 1000!”\n",
            "Warning message in generateDesign(control$infill.opt.focussearch.points, ps.local, :\n",
            "“generateDesign could only produce 825 points instead of 1000!”\n",
            "Tue Aug 12 02:07:10 PM 2025 AUC 0.992857142857143\n",
            "\n",
            "[mbo] 2: num_leaves=256; min_data_in_leaf=428 : y = 0.993 : 2.0 secs : infill_ei\n",
            "\n",
            "Tue Aug 12 02:07:12 PM 2025 AUC 0.988571428571429\n",
            "\n",
            "[mbo] 3: num_leaves=246; min_data_in_leaf=809 : y = 0.989 : 1.3 secs : infill_ei\n",
            "\n",
            "Tue Aug 12 02:07:13 PM 2025 AUC 0.994285714285714\n",
            "\n",
            "[mbo] 4: num_leaves=246; min_data_in_leaf=336 : y = 0.994 : 0.6 secs : infill_ei\n",
            "\n",
            "Tue Aug 12 02:07:14 PM 2025 AUC 0.991428571428571\n",
            "\n",
            "[mbo] 5: num_leaves=242; min_data_in_leaf=385 : y = 0.991 : 0.6 secs : infill_ei\n",
            "\n",
            "Tue Aug 12 02:07:15 PM 2025 AUC 0.992857142857143\n",
            "\n",
            "[mbo] 6: num_leaves=251; min_data_in_leaf=444 : y = 0.993 : 0.5 secs : infill_ei\n",
            "\n",
            "Warning message in generateDesign(control$infill.opt.focussearch.points, ps.local, :\n",
            "“generateDesign could only produce 945 points instead of 1000!”\n",
            "Warning message in generateDesign(control$infill.opt.focussearch.points, ps.local, :\n",
            "“generateDesign could only produce 968 points instead of 1000!”\n",
            "Tue Aug 12 02:07:16 PM 2025 AUC 0.5\n",
            "\n",
            "[mbo] 7: num_leaves=256; min_data_in_leaf=2228 : y = 0.5 : 0.3 secs : infill_ei\n",
            "\n",
            "Warning message in generateDesign(control$infill.opt.focussearch.points, ps.local, :\n",
            "“generateDesign could only produce 955 points instead of 1000!”\n",
            "Warning message in generateDesign(control$infill.opt.focussearch.points, ps.local, :\n",
            "“generateDesign could only produce 961 points instead of 1000!”\n",
            "Warning message in generateDesign(control$infill.opt.focussearch.points, ps.local, :\n",
            "“generateDesign could only produce 966 points instead of 1000!”\n",
            "Tue Aug 12 02:07:17 PM 2025 AUC 0.987142857142857\n",
            "\n",
            "[mbo] 8: num_leaves=256; min_data_in_leaf=655 : y = 0.987 : 0.5 secs : infill_ei\n",
            "\n",
            "Warning message in generateDesign(control$infill.opt.focussearch.points, ps.local, :\n",
            "“generateDesign could only produce 937 points instead of 1000!”\n",
            "Warning message in generateDesign(control$infill.opt.focussearch.points, ps.local, :\n",
            "“generateDesign could only produce 946 points instead of 1000!”\n",
            "Warning message in generateDesign(control$infill.opt.focussearch.points, ps.local, :\n",
            "“generateDesign could only produce 960 points instead of 1000!”\n",
            "Tue Aug 12 02:07:19 PM 2025 AUC 0.985714285714286\n",
            "\n",
            "[mbo] 9: num_leaves=254; min_data_in_leaf=213 : y = 0.986 : 0.6 secs : infill_ei\n",
            "\n",
            "Warning message in generateDesign(control$infill.opt.focussearch.points, ps.local, :\n",
            "“generateDesign could only produce 510 points instead of 1000!”\n",
            "Warning message in generateDesign(control$infill.opt.focussearch.points, ps.local, :\n",
            "“generateDesign could only produce 595 points instead of 1000!”\n",
            "Warning message in generateDesign(control$infill.opt.focussearch.points, ps.local, :\n",
            "“generateDesign could only produce 612 points instead of 1000!”\n",
            "Tue Aug 12 02:07:20 PM 2025 AUC 0.985714285714286\n",
            "\n",
            "[mbo] 10: num_leaves=197; min_data_in_leaf=2 : y = 0.986 : 0.9 secs : infill_ei\n",
            "\n",
            "Warning message in generateDesign(control$infill.opt.focussearch.points, ps.local, :\n",
            "“generateDesign could only produce 600 points instead of 1000!”\n",
            "Warning message in generateDesign(control$infill.opt.focussearch.points, ps.local, :\n",
            "“generateDesign could only produce 630 points instead of 1000!”\n",
            "Warning message in generateDesign(control$infill.opt.focussearch.points, ps.local, :\n",
            "“generateDesign could only produce 906 points instead of 1000!”\n",
            "Tue Aug 12 02:07:22 PM 2025 AUC 0.985714285714286\n",
            "\n",
            "[mbo] 11: num_leaves=220; min_data_in_leaf=2 : y = 0.986 : 1.0 secs : infill_ei\n",
            "\n",
            "Tue Aug 12 02:07:25 PM 2025 AUC 0.994285714285714\n",
            "\n",
            "[mbo] 12: num_leaves=208; min_data_in_leaf=334 : y = 0.994 : 3.1 secs : infill_ei\n",
            "\n",
            "Tue Aug 12 02:07:26 PM 2025 AUC 0.994285714285714\n",
            "\n",
            "[mbo] 13: num_leaves=253; min_data_in_leaf=336 : y = 0.994 : 0.6 secs : infill_ei\n",
            "\n",
            "Tue Aug 12 02:07:28 PM 2025 AUC 0.988571428571429\n",
            "\n",
            "[mbo] 14: num_leaves=215; min_data_in_leaf=315 : y = 0.989 : 0.5 secs : infill_ei\n",
            "\n",
            "Tue Aug 12 02:07:28 PM 2025 AUC 0.987142857142857\n",
            "\n",
            "[mbo] 15: num_leaves=202; min_data_in_leaf=775 : y = 0.987 : 0.5 secs : infill_ei\n",
            "\n",
            "Tue Aug 12 02:07:29 PM 2025 AUC 0.994285714285714\n",
            "\n",
            "[mbo] 16: num_leaves=203; min_data_in_leaf=348 : y = 0.994 : 0.5 secs : infill_ei\n",
            "\n",
            "Warning message in generateDesign(control$infill.opt.focussearch.points, ps.local, :\n",
            "“generateDesign could only produce 705 points instead of 1000!”\n",
            "Warning message in generateDesign(control$infill.opt.focussearch.points, ps.local, :\n",
            "“generateDesign could only produce 72 points instead of 1000!”\n",
            "Warning message in generateDesign(control$infill.opt.focussearch.points, ps.local, :\n",
            "“generateDesign could only produce 990 points instead of 1000!”\n",
            "Warning message in generateDesign(control$infill.opt.focussearch.points, ps.local, :\n",
            "“generateDesign could only produce 123 points instead of 1000!”\n",
            "Warning message in generateDesign(control$infill.opt.focussearch.points, ps.local, :\n",
            "“generateDesign could only produce 952 points instead of 1000!”\n",
            "Warning message in generateDesign(control$infill.opt.focussearch.points, ps.local, :\n",
            "“generateDesign could only produce 126 points instead of 1000!”\n",
            "Tue Aug 12 02:07:31 PM 2025 AUC 0.5\n",
            "\n",
            "[mbo] 17: num_leaves=256; min_data_in_leaf=8192 : y = 0.5 : 0.5 secs : infill_ei\n",
            "\n",
            "Tue Aug 12 02:07:31 PM 2025 AUC 0.991428571428571\n",
            "\n",
            "[mbo] 18: num_leaves=206; min_data_in_leaf=345 : y = 0.991 : 0.5 secs : infill_ei\n",
            "\n",
            "Tue Aug 12 02:07:32 PM 2025 AUC 0.994285714285714\n",
            "\n",
            "[mbo] 19: num_leaves=182; min_data_in_leaf=338 : y = 0.994 : 0.6 secs : infill_ei\n",
            "\n",
            "Tue Aug 12 02:07:33 PM 2025 AUC 0.994285714285714\n",
            "\n",
            "[mbo] 20: num_leaves=192; min_data_in_leaf=331 : y = 0.994 : 0.6 secs : infill_ei\n",
            "\n",
            "Tue Aug 12 02:07:35 PM 2025 AUC 0.994285714285714\n",
            "\n",
            "[mbo] 21: num_leaves=155; min_data_in_leaf=313 : y = 0.994 : 0.6 secs : infill_ei\n",
            "\n",
            "Tue Aug 12 02:07:36 PM 2025 AUC 0.994285714285714\n",
            "\n",
            "[mbo] 22: num_leaves=166; min_data_in_leaf=320 : y = 0.994 : 0.7 secs : infill_ei\n",
            "\n",
            "Warning message in generateDesign(control$infill.opt.focussearch.points, ps.local, :\n",
            "“generateDesign could only produce 595 points instead of 1000!”\n",
            "Warning message in generateDesign(control$infill.opt.focussearch.points, ps.local, :\n",
            "“generateDesign could only produce 595 points instead of 1000!”\n",
            "Tue Aug 12 02:07:40 PM 2025 AUC 0.985714285714286\n",
            "\n",
            "[mbo] 23: num_leaves=136; min_data_in_leaf=2 : y = 0.986 : 3.0 secs : infill_ei\n",
            "\n",
            "Warning message in generateDesign(control$infill.opt.focussearch.points, ps.local, :\n",
            "“generateDesign could only produce 629 points instead of 1000!”\n",
            "Warning message in generateDesign(control$infill.opt.focussearch.points, ps.local, :\n",
            "“generateDesign could only produce 697 points instead of 1000!”\n",
            "Warning message in generateDesign(control$infill.opt.focussearch.points, ps.local, :\n",
            "“generateDesign could only produce 629 points instead of 1000!”\n",
            "Tue Aug 12 02:07:41 PM 2025 AUC 0.985714285714286\n",
            "\n",
            "[mbo] 24: num_leaves=153; min_data_in_leaf=2 : y = 0.986 : 1.0 secs : infill_ei\n",
            "\n",
            "Tue Aug 12 02:07:42 PM 2025 AUC 0.997142857142857\n",
            "\n",
            "[mbo] 25: num_leaves=144; min_data_in_leaf=289 : y = 0.997 : 0.6 secs : infill_ei\n",
            "\n",
            "Tue Aug 12 02:07:43 PM 2025 AUC 0.988571428571429\n",
            "\n",
            "[mbo] 26: num_leaves=145; min_data_in_leaf=546 : y = 0.989 : 0.6 secs : infill_ei\n",
            "\n",
            "Tue Aug 12 02:07:44 PM 2025 AUC 0.994285714285714\n",
            "\n",
            "[mbo] 27: num_leaves=147; min_data_in_leaf=334 : y = 0.994 : 0.6 secs : infill_ei\n",
            "\n",
            "Tue Aug 12 02:07:45 PM 2025 AUC 0.988571428571429\n",
            "\n",
            "[mbo] 28: num_leaves=139; min_data_in_leaf=310 : y = 0.989 : 0.5 secs : infill_ei\n",
            "\n",
            "Tue Aug 12 02:07:46 PM 2025 AUC 0.99\n",
            "\n",
            "[mbo] 29: num_leaves=173; min_data_in_leaf=766 : y = 0.99 : 0.6 secs : infill_ei\n",
            "\n",
            "Warning message in generateDesign(control$infill.opt.focussearch.points, ps.local, :\n",
            "“generateDesign could only produce 995 points instead of 1000!”\n",
            "Tue Aug 12 02:07:48 PM 2025 AUC 0.968571428571429\n",
            "\n",
            "[mbo] 30: num_leaves=144; min_data_in_leaf=157 : y = 0.969 : 0.6 secs : infill_ei\n",
            "\n",
            "Tue Aug 12 02:07:48 PM 2025 AUC 0.988571428571429\n",
            "\n",
            "[mbo] 31: num_leaves=152; min_data_in_leaf=688 : y = 0.989 : 0.5 secs : infill_ei\n",
            "\n",
            "Tue Aug 12 02:07:52 PM 2025 AUC 0.997142857142857\n",
            "\n",
            "[mbo] 32: num_leaves=201; min_data_in_leaf=289 : y = 0.997 : 3.3 secs : infill_ei\n",
            "\n",
            "Tue Aug 12 02:07:53 PM 2025 AUC 0.987142857142857\n",
            "\n",
            "[mbo] 33: num_leaves=177; min_data_in_leaf=612 : y = 0.987 : 0.6 secs : infill_ei\n",
            "\n",
            "Warning message in generateDesign(control$infill.opt.focussearch.points, ps.local, :\n",
            "“generateDesign could only produce 999 points instead of 1000!”\n",
            "Warning message in generateDesign(control$infill.opt.focussearch.points, ps.local, :\n",
            "“generateDesign could only produce 998 points instead of 1000!”\n",
            "Warning message in generateDesign(control$infill.opt.focussearch.points, ps.local, :\n",
            "“generateDesign could only produce 994 points instead of 1000!”\n",
            "Tue Aug 12 02:07:55 PM 2025 AUC 0.974285714285714\n",
            "\n",
            "[mbo] 34: num_leaves=256; min_data_in_leaf=1008 : y = 0.974 : 0.6 secs : infill_ei\n",
            "\n",
            "Tue Aug 12 02:07:56 PM 2025 AUC 0.994285714285714\n",
            "\n",
            "[mbo] 35: num_leaves=159; min_data_in_leaf=920 : y = 0.994 : 0.6 secs : infill_ei\n",
            "\n",
            "Tue Aug 12 02:07:57 PM 2025 AUC 0.994285714285714\n",
            "\n",
            "[mbo] 36: num_leaves=146; min_data_in_leaf=859 : y = 0.994 : 0.6 secs : infill_ei\n",
            "\n",
            "Tue Aug 12 02:07:58 PM 2025 AUC 0.991428571428571\n",
            "\n",
            "[mbo] 37: num_leaves=162; min_data_in_leaf=848 : y = 0.991 : 0.6 secs : infill_ei\n",
            "\n",
            "Tue Aug 12 02:07:59 PM 2025 AUC 0.991428571428571\n",
            "\n",
            "[mbo] 38: num_leaves=184; min_data_in_leaf=922 : y = 0.991 : 0.6 secs : infill_ei\n",
            "\n",
            "Tue Aug 12 02:08:00 PM 2025 AUC 0.5\n",
            "\n",
            "[mbo] 39: num_leaves=2; min_data_in_leaf=5240 : y = 0.5 : 0.3 secs : infill_ei\n",
            "\n",
            "Tue Aug 12 02:08:01 PM 2025 AUC 0.968571428571429\n",
            "\n",
            "[mbo] 40: num_leaves=146; min_data_in_leaf=1041 : y = 0.969 : 0.6 secs : infill_ei\n",
            "\n",
            "Warning message in generateDesign(control$infill.opt.focussearch.points, ps.local, :\n",
            "“generateDesign could only produce 595 points instead of 1000!”\n",
            "Warning message in generateDesign(control$infill.opt.focussearch.points, ps.local, :\n",
            "“generateDesign could only produce 152 points instead of 1000!”\n",
            "Warning message in generateDesign(control$infill.opt.focussearch.points, ps.local, :\n",
            "“generateDesign could only produce 838 points instead of 1000!”\n",
            "Warning message in generateDesign(control$infill.opt.focussearch.points, ps.local, :\n",
            "“generateDesign could only produce 108 points instead of 1000!”\n",
            "Tue Aug 12 02:08:02 PM 2025 AUC 0.985714285714286\n",
            "\n",
            "[mbo] 41: num_leaves=100; min_data_in_leaf=2 : y = 0.986 : 0.8 secs : infill_ei\n",
            "\n",
            "Warning message in generateDesign(control$infill.opt.focussearch.points, ps.local, :\n",
            "“generateDesign could only produce 941 points instead of 1000!”\n",
            "Warning message in generateDesign(control$infill.opt.focussearch.points, ps.local, :\n",
            "“generateDesign could only produce 108 points instead of 1000!”\n",
            "Warning message in generateDesign(control$infill.opt.focussearch.points, ps.local, :\n",
            "“generateDesign could only produce 144 points instead of 1000!”\n",
            "Warning message in generateDesign(control$infill.opt.focussearch.points, ps.local, :\n",
            "“generateDesign could only produce 987 points instead of 1000!”\n",
            "Warning message in generateDesign(control$infill.opt.focussearch.points, ps.local, :\n",
            "“generateDesign could only produce 105 points instead of 1000!”\n",
            "Tue Aug 12 02:08:05 PM 2025 AUC 0.997142857142857\n",
            "\n",
            "[mbo] 42: num_leaves=2; min_data_in_leaf=2 : y = 0.997 : 2.0 secs : infill_ei\n",
            "\n",
            "Warning message in generateDesign(control$infill.opt.focussearch.points, ps.local, :\n",
            "“generateDesign could only produce 442 points instead of 1000!”\n",
            "Warning message in generateDesign(control$infill.opt.focussearch.points, ps.local, :\n",
            "“generateDesign could only produce 442 points instead of 1000!”\n",
            "Warning message in generateDesign(control$infill.opt.focussearch.points, ps.local, :\n",
            "“generateDesign could only produce 442 points instead of 1000!”\n",
            "Tue Aug 12 02:08:07 PM 2025 AUC 0.985714285714286\n",
            "\n",
            "[mbo] 43: num_leaves=35; min_data_in_leaf=2 : y = 0.986 : 0.7 secs : infill_ei\n",
            "\n",
            "Warning message in generateDesign(control$infill.opt.focussearch.points, ps.local, :\n",
            "“generateDesign could only produce 595 points instead of 1000!”\n",
            "Warning message in generateDesign(control$infill.opt.focussearch.points, ps.local, :\n",
            "“generateDesign could only produce 306 points instead of 1000!”\n",
            "Warning message in generateDesign(control$infill.opt.focussearch.points, ps.local, :\n",
            "“generateDesign could only produce 595 points instead of 1000!”\n",
            "Tue Aug 12 02:08:08 PM 2025 AUC 0.985714285714286\n",
            "\n",
            "[mbo] 44: num_leaves=70; min_data_in_leaf=2 : y = 0.986 : 0.7 secs : infill_ei\n",
            "\n",
            "Tue Aug 12 02:08:11 PM 2025 AUC 0.994285714285714\n",
            "\n",
            "[mbo] 45: num_leaves=174; min_data_in_leaf=300 : y = 0.994 : 1.8 secs : infill_ei\n",
            "\n",
            "Warning message in generateDesign(control$infill.opt.focussearch.points, ps.local, :\n",
            "“generateDesign could only produce 306 points instead of 1000!”\n",
            "Tue Aug 12 02:08:13 PM 2025 AUC 0.985714285714286\n",
            "\n",
            "[mbo] 46: num_leaves=14; min_data_in_leaf=2 : y = 0.986 : 0.8 secs : infill_ei\n",
            "\n",
            "Warning message in generateDesign(control$infill.opt.focussearch.points, ps.local, :\n",
            "“generateDesign could only produce 919 points instead of 1000!”\n",
            "Tue Aug 12 02:08:14 PM 2025 AUC 0.991428571428571\n",
            "\n",
            "[mbo] 47: num_leaves=200; min_data_in_leaf=319 : y = 0.991 : 0.7 secs : infill_ei\n",
            "\n",
            "Warning message in generateDesign(control$infill.opt.focussearch.points, ps.local, :\n",
            "“generateDesign could only produce 811 points instead of 1000!”\n",
            "Tue Aug 12 02:08:16 PM 2025 AUC 0.997142857142857\n",
            "\n",
            "[mbo] 48: num_leaves=188; min_data_in_leaf=282 : y = 0.997 : 0.9 secs : infill_ei\n",
            "\n",
            "Tue Aug 12 02:08:21 PM 2025 AUC 0.98\n",
            "\n",
            "[mbo] 49: num_leaves=138; min_data_in_leaf=976 : y = 0.98 : 4.4 secs : infill_ei\n",
            "\n",
            "Warning message in generateDesign(control$infill.opt.focussearch.points, ps.local, :\n",
            "“generateDesign could only produce 999 points instead of 1000!”\n",
            "Tue Aug 12 02:08:22 PM 2025 AUC 0.997142857142857\n",
            "\n",
            "[mbo] 50: num_leaves=249; min_data_in_leaf=281 : y = 0.997 : 0.5 secs : infill_ei\n",
            "\n",
            "Saved the final state in the file HT.RDATA\n",
            "\n"
          ]
        }
      ],
      "source": [
        "# inicio la optimizacion bayesiana\n",
        "\n",
        "if (!file.exists(\"HT.RDATA\")) {\n",
        "  bayesiana_salida <- mbo(obj.fun, learner= surr.km, control= ctrl)\n",
        "} else {\n",
        "  bayesiana_salida <- mboContinue(\"HT.RDATA\") # retomo en caso que ya exista\n",
        "}"
      ]
    },
    {
      "cell_type": "markdown",
      "id": "36307612-964f-4df3-907a-1bc3c095f178",
      "metadata": {
        "id": "36307612-964f-4df3-907a-1bc3c095f178"
      },
      "source": [
        "la bayesian optimization ha corrido, extraigo los mejores hiperparametros"
      ]
    },
    {
      "cell_type": "code",
      "execution_count": 51,
      "id": "8c061a2a-3341-4006-a154-c95bb6cfd407",
      "metadata": {
        "id": "8c061a2a-3341-4006-a154-c95bb6cfd407",
        "outputId": "12b45f9a-2f17-4a57-8fcc-746204be7b6c",
        "colab": {
          "base_uri": "https://localhost:8080/"
        }
      },
      "outputs": [
        {
          "output_type": "stream",
          "name": "stdout",
          "text": [
            "   num_leaves min_data_in_leaf num_iterations\n",
            "        <int>            <int>          <int>\n",
            "1:        144              289            117\n"
          ]
        }
      ],
      "source": [
        "# almaceno los resultados de la Bayesian Optimization\n",
        "# y capturo los mejores hiperparametros encontrados\n",
        "\n",
        "tb_bayesiana <- as.data.table(bayesiana_salida$opt.path)\n",
        "\n",
        "# ordeno en forma descendente por AUC = y\n",
        "setorder(tb_bayesiana, -y, -num_iterations)\n",
        "\n",
        "# grabo para eventualmente poder utilizarlos en OTRA corrida\n",
        "fwrite( tb_bayesiana,\n",
        "  file=\"BO_log.txt\",\n",
        "  sep=\"\\t\"\n",
        ")\n",
        "\n",
        "# los mejores hiperparámetros son los que quedaron en el registro 1 de la tabla\n",
        "PARAM$out$lgbm$mejores_hiperparametros <- tb_bayesiana[\n",
        "  1, # el primero es el de mejor AUC\n",
        "  list(num_leaves, min_data_in_leaf, num_iterations)\n",
        "]\n",
        "\n",
        "print(PARAM$out$lgbm$mejores_hiperparametros)"
      ]
    },
    {
      "cell_type": "markdown",
      "id": "ddb554cb-1d96-4f6b-ae1c-c9a076f8dbdc",
      "metadata": {
        "id": "ddb554cb-1d96-4f6b-ae1c-c9a076f8dbdc"
      },
      "source": [
        "### 6.3.3 Produccion"
      ]
    },
    {
      "cell_type": "markdown",
      "id": "c39492c3-756f-47a5-8747-93ade8275306",
      "metadata": {
        "id": "c39492c3-756f-47a5-8747-93ade8275306"
      },
      "source": [
        "#### Final Training\n",
        "Construyo el modelo final, que es uno solo, no hace ningun tipo de particion < training, validation, testing>]"
      ]
    },
    {
      "cell_type": "markdown",
      "source": [
        "##### Final Training Dataset\n",
        "\n",
        "Aqui esta la gran decision de en qué meses hago el Final Training\n",
        "<br> debo utilizar los mejores hiperparámetros que encontré en la optimización bayesiana"
      ],
      "metadata": {
        "id": "xhKi_G_sYQqq"
      },
      "id": "xhKi_G_sYQqq"
    },
    {
      "cell_type": "code",
      "source": [
        "PARAM$trainingstrategy$final_train <- c( 202107,\n",
        "  202106, 202105, 202104, 202103, 202102, 202101,\n",
        "  202012, 202011, 202010, 202009, 202008, 202007,\n",
        "  202006, 202005\n",
        ")\n",
        "\n",
        "dataset[, fold_final_train := foto_mes %in% PARAM$trainingstrategy$final_train ]\n",
        "\n",
        "# creo el dfinal_train en formato  LightGBM\n",
        "dfinal_train <- lgb.Dataset(\n",
        "  data= data.matrix(dataset[fold_final_train == TRUE, campos_buenos, with= FALSE]),\n",
        "  label= dataset[fold_final_train == TRUE, clase01],\n",
        "  free_raw_data= TRUE\n",
        ")\n",
        "\n",
        "nrow( dfinal_train) # verifico el tamaño"
      ],
      "metadata": {
        "id": "qyHfS_X0zd7o",
        "outputId": "68fbffff-107e-4cec-f166-d23db983e2da",
        "colab": {
          "base_uri": "https://localhost:8080/",
          "height": 34
        }
      },
      "id": "qyHfS_X0zd7o",
      "execution_count": 52,
      "outputs": [
        {
          "output_type": "display_data",
          "data": {
            "text/html": [
              "2370"
            ],
            "text/markdown": "2370",
            "text/latex": "2370",
            "text/plain": [
              "[1] 2370"
            ]
          },
          "metadata": {}
        }
      ]
    },
    {
      "cell_type": "markdown",
      "source": [
        "##### Final Training Hyperparameters"
      ],
      "metadata": {
        "id": "HATRyklxYUpT"
      },
      "id": "HATRyklxYUpT"
    },
    {
      "cell_type": "code",
      "execution_count": 53,
      "id": "d6b9f33c-e0a0-4ea6-8169-4a6180cc5d01",
      "metadata": {
        "id": "d6b9f33c-e0a0-4ea6-8169-4a6180cc5d01"
      },
      "outputs": [],
      "source": [
        "# uno los parametros fijos y los mejores encontrados de los variables\n",
        "fijos <- copy(PARAM$lgbm$param_fijos)\n",
        "\n",
        "# quito lo que optimice en la Bayesian Optimization\n",
        "fijos$num_iterations <- NULL\n",
        "fijos$early_stopping_rounds <- NULL\n",
        "\n",
        "# agrego a los hiperparametros fijos los que encontre con la Bayesian Optimization\n",
        "param_final <- c(fijos, PARAM$out$lgbm$mejores_hiperparametros)"
      ]
    },
    {
      "cell_type": "markdown",
      "id": "05d3494f-0401-4f3e-9b69-f488a737879d",
      "metadata": {
        "id": "05d3494f-0401-4f3e-9b69-f488a737879d"
      },
      "source": [
        "##### Training\n",
        "Genero el modelo final, siempre sobre TODOS los datos de  final_train, sin hacer ningun tipo de undersampling de la clase mayoritaria"
      ]
    },
    {
      "cell_type": "code",
      "execution_count": 54,
      "id": "fa239848-1c28-4ee5-984a-073903b4b279",
      "metadata": {
        "id": "fa239848-1c28-4ee5-984a-073903b4b279"
      },
      "outputs": [],
      "source": [
        "final_model <- lgb.train(\n",
        "  data= dfinal_train,\n",
        "  param= param_final,\n",
        "  verbose= -100\n",
        ")"
      ]
    },
    {
      "cell_type": "code",
      "source": [
        "# grabo a disco el modelo en un formato para seres humanos ... ponele ...\n",
        "\n",
        "lgb.save(final_model, \"modelo.txt\")"
      ],
      "metadata": {
        "id": "RC1ju-5MZN5s"
      },
      "id": "RC1ju-5MZN5s",
      "execution_count": 55,
      "outputs": []
    },
    {
      "cell_type": "code",
      "source": [
        "# ahora imprimo la importancia de variables\n",
        "\n",
        "tb_importancia <- as.data.table(lgb.importance(final_model))\n",
        "archivo_importancia <- \"impo.txt\"\n",
        "\n",
        "fwrite( tb_importancia,\n",
        "  file= archivo_importancia,\n",
        "  sep= \"\\t\"\n",
        ")"
      ],
      "metadata": {
        "id": "VEpv4RYOZHTU"
      },
      "id": "VEpv4RYOZHTU",
      "execution_count": 56,
      "outputs": []
    },
    {
      "cell_type": "markdown",
      "id": "7ea225b3-ce02-42e2-8330-b10ed250d172",
      "metadata": {
        "id": "7ea225b3-ce02-42e2-8330-b10ed250d172"
      },
      "source": [
        "#### Scoring"
      ]
    },
    {
      "cell_type": "markdown",
      "id": "164981bb-f4c1-4228-8bc9-32e58a383c05",
      "metadata": {
        "id": "164981bb-f4c1-4228-8bc9-32e58a383c05"
      },
      "source": [
        "Aplico el modelo final a los datos del futuro"
      ]
    },
    {
      "cell_type": "code",
      "source": [
        "PARAM$trainingstrategy$future <- c(202109)\n",
        "\n",
        "dfuture <- dataset[ foto_mes %in% PARAM$trainingstrategy$future ]"
      ],
      "metadata": {
        "id": "eJ7RbT271v-R"
      },
      "id": "eJ7RbT271v-R",
      "execution_count": 57,
      "outputs": []
    },
    {
      "cell_type": "code",
      "execution_count": 60,
      "id": "88ca61c8-fa24-4ce5-8be1-323aca018e8f",
      "metadata": {
        "id": "88ca61c8-fa24-4ce5-8be1-323aca018e8f",
        "outputId": "f36ac292-56a6-4247-a6d0-47c0a84ab941",
        "colab": {
          "base_uri": "https://localhost:8080/",
          "height": 454
        }
      },
      "outputs": [
        {
          "output_type": "error",
          "ename": "ERROR",
          "evalue": "Error in if (length(preds)%%num_row != 0L) {: missing value where TRUE/FALSE needed\n",
          "traceback": [
            "Error in if (length(preds)%%num_row != 0L) {: missing value where TRUE/FALSE needed\nTraceback:\n",
            "1. predict(final_model, data.matrix(dfuture[, campos_buenos, with = FALSE]))",
            "2. predict.lgb.Booster(final_model, data.matrix(dfuture[, campos_buenos, \n .     with = FALSE]))",
            "3. object$predict(data = newdata, start_iteration = start_iteration, \n .     num_iteration = num_iteration, rawscore = rawscore, predleaf = predleaf, \n .     predcontrib = predcontrib, header = header, params = params)",
            "4. predictor$predict(data = data, start_iteration = start_iteration, \n .     num_iteration = num_iteration, rawscore = rawscore, predleaf = predleaf, \n .     predcontrib = predcontrib, header = header)",
            "5. .handleSimpleError(function (cnd) \n . {\n .     watcher$capture_plot_and_output()\n .     cnd <- sanitize_call(cnd)\n .     watcher$push(cnd)\n .     switch(on_error, continue = invokeRestart(\"eval_continue\"), \n .         stop = invokeRestart(\"eval_stop\"), error = NULL)\n . }, \"missing value where TRUE/FALSE needed\", base::quote(if (length(preds)%%num_row != \n .     0L) {\n .     stop(\"predict: prediction length \", sQuote(length(preds)), \n .         \" is not a multiple of nrows(data): \", sQuote(num_row))\n . }))"
          ]
        }
      ],
      "source": [
        "# aplico final_model   a dfuture\n",
        "\n",
        "prediccion <- predict(\n",
        "  final_model,\n",
        "  data.matrix(dfuture[, campos_buenos, with= FALSE])\n",
        ")"
      ]
    },
    {
      "cell_type": "code",
      "source": [
        "df_pred <- dfuture[, campos_buenos, with = FALSE]\n",
        "\n",
        "# Convertir a numérico si hay factores\n",
        "df_pred <- df_pred[, lapply(.SD, as.numeric)]\n",
        "\n",
        "# Imputar NA si el modelo no los acepta\n",
        "df_pred[is.na(df_pred)] <- '0'  # O el valor que hayas usado en el entrenamiento\n",
        "\n",
        "# Convertir a matriz\n",
        "df_pred_matrix <- data.matrix(df_pred)\n",
        "\n",
        "# Predicción\n",
        "prediccion <- predict(final_model, df_pred_matrix)\n"
      ],
      "metadata": {
        "id": "0xq5Q9hjnmFq",
        "outputId": "c1179311-949a-44f7-9367-bad21dc9375c",
        "colab": {
          "base_uri": "https://localhost:8080/",
          "height": 436
        }
      },
      "id": "0xq5Q9hjnmFq",
      "execution_count": 64,
      "outputs": [
        {
          "output_type": "error",
          "ename": "ERROR",
          "evalue": "Error in if (length(preds)%%num_row != 0L) {: missing value where TRUE/FALSE needed\n",
          "traceback": [
            "Error in if (length(preds)%%num_row != 0L) {: missing value where TRUE/FALSE needed\nTraceback:\n",
            "1. predict(final_model, df_pred_matrix)",
            "2. predict.lgb.Booster(final_model, df_pred_matrix)",
            "3. object$predict(data = newdata, start_iteration = start_iteration, \n .     num_iteration = num_iteration, rawscore = rawscore, predleaf = predleaf, \n .     predcontrib = predcontrib, header = header, params = params)",
            "4. predictor$predict(data = data, start_iteration = start_iteration, \n .     num_iteration = num_iteration, rawscore = rawscore, predleaf = predleaf, \n .     predcontrib = predcontrib, header = header)",
            "5. .handleSimpleError(function (cnd) \n . {\n .     watcher$capture_plot_and_output()\n .     cnd <- sanitize_call(cnd)\n .     watcher$push(cnd)\n .     switch(on_error, continue = invokeRestart(\"eval_continue\"), \n .         stop = invokeRestart(\"eval_stop\"), error = NULL)\n . }, \"missing value where TRUE/FALSE needed\", base::quote(if (length(preds)%%num_row != \n .     0L) {\n .     stop(\"predict: prediction length \", sQuote(length(preds)), \n .         \" is not a multiple of nrows(data): \", sQuote(num_row))\n . }))"
          ]
        }
      ]
    },
    {
      "cell_type": "code",
      "source": [
        "# Paso 1: Asegurarse que todos los campos existen\n",
        "missing_cols <- setdiff(campos_buenos, names(dfuture))\n",
        "if (length(missing_cols) > 0) {\n",
        "  stop(paste(\"Faltan columnas en dfuture:\", paste(missing_cols, collapse = \", \")))\n",
        "}\n",
        "\n",
        "# Paso 2: Convertir a numérico\n",
        "df_pred <- dfuture[, campos_buenos, with = FALSE]\n",
        "df_pred <- df_pred[, lapply(.SD, as.numeric)]\n",
        "\n"
      ],
      "metadata": {
        "id": "2W3PqKo_oDPW"
      },
      "id": "2W3PqKo_oDPW",
      "execution_count": 65,
      "outputs": []
    },
    {
      "cell_type": "code",
      "source": [
        "# Paso 3: Imputar NA\n",
        "df_pred[is.na(df_pred)] <- 0\n",
        "\n",
        "# Paso 4: Convertir a matriz\n",
        "df_pred_matrix <- data.matrix(df_pred)\n",
        "\n",
        "# Paso 5: Verificar dimensiones\n",
        "if (nrow(df_pred_matrix) == 0 || ncol(df_pred_matrix) == 0) {\n",
        "  stop(\"La matriz de predicción está vacía.\")\n",
        "}\n",
        "\n",
        "# Paso 6: Predicción\n",
        "prediccion <- predict(final_model, df_pred_matrix)\n"
      ],
      "metadata": {
        "id": "7xYbfVCYnmPU",
        "outputId": "76ddc539-9633-4b7b-de08-61c7e50d3336",
        "colab": {
          "base_uri": "https://localhost:8080/",
          "height": 245
        }
      },
      "id": "7xYbfVCYnmPU",
      "execution_count": 66,
      "outputs": [
        {
          "output_type": "error",
          "ename": "ERROR",
          "evalue": "Error: La matriz de predicción está vacía.\n",
          "traceback": [
            "Error: La matriz de predicción está vacía.\nTraceback:\n",
            "1. .handleSimpleError(function (cnd) \n . {\n .     watcher$capture_plot_and_output()\n .     cnd <- sanitize_call(cnd)\n .     watcher$push(cnd)\n .     switch(on_error, continue = invokeRestart(\"eval_continue\"), \n .         stop = invokeRestart(\"eval_stop\"), error = NULL)\n . }, \"La matriz de predicción está vacía.\", base::quote(eval(expr, \n .     envir)))"
          ]
        }
      ]
    },
    {
      "cell_type": "markdown",
      "source": [
        "##### Tabla Prediccion"
      ],
      "metadata": {
        "id": "79u0ZvjJZblE"
      },
      "id": "79u0ZvjJZblE"
    },
    {
      "cell_type": "code",
      "source": [
        "tb_prediccion <- dfuture[, list(numero_de_cliente)]\n",
        "tb_prediccion[, prob := prediccion]\n",
        "\n",
        "# grabo las probabilidad del modelo\n",
        "#  me va a ser util para hacer Ensembles de modelos\n",
        "fwrite(tb_prediccion,\n",
        "  file= \"prediccion.txt\",\n",
        "  sep= \"\\t\"\n",
        ")"
      ],
      "metadata": {
        "id": "TB6aerGDZeTo",
        "outputId": "3c51f929-8f05-4947-d50f-1d11bfb5ead3",
        "colab": {
          "base_uri": "https://localhost:8080/",
          "height": 297
        }
      },
      "id": "TB6aerGDZeTo",
      "execution_count": 59,
      "outputs": [
        {
          "output_type": "error",
          "ename": "ERROR",
          "evalue": "Error in eval(jsub, SDenv, parent.frame()): object 'prediccion' not found\n",
          "traceback": [
            "Error in eval(jsub, SDenv, parent.frame()): object 'prediccion' not found\nTraceback:\n",
            "1. `[.data.table`(tb_prediccion, , `:=`(prob, prediccion))",
            "2. eval(jsub, SDenv, parent.frame())",
            "3. eval(jsub, SDenv, parent.frame())",
            "4. .handleSimpleError(function (cnd) \n . {\n .     watcher$capture_plot_and_output()\n .     cnd <- sanitize_call(cnd)\n .     watcher$push(cnd)\n .     switch(on_error, continue = invokeRestart(\"eval_continue\"), \n .         stop = invokeRestart(\"eval_stop\"), error = NULL)\n . }, \"object 'prediccion' not found\", base::quote(eval(jsub, SDenv, \n .     parent.frame())))"
          ]
        }
      ]
    },
    {
      "cell_type": "markdown",
      "id": "8412d838-5bd5-454e-b3a9-5eaa18d80a50",
      "metadata": {
        "id": "8412d838-5bd5-454e-b3a9-5eaa18d80a50"
      },
      "source": [
        "#### Kaggle Competition Submit"
      ]
    },
    {
      "cell_type": "markdown",
      "id": "55970cb6-856a-46e3-a893-7f36b8352b8e",
      "metadata": {
        "id": "55970cb6-856a-46e3-a893-7f36b8352b8e"
      },
      "source": [
        "Genero las salidas y hago los submits a Kaggle\n",
        "<br>El notebook esta preparado para la Modalidad Gerencial, los analistas deben hacer cambios.\n",
        "<br> Los analistas deben cambiar **competencia** a SU competencia  \"data-mining-analista-jr-2025-a\"   o  la original \"data-mining-analista-sr-2025-a\"  para los Senior\n",
        "<br> Los cortes  dependen de la cantidad de registros, multiplicar por 2 para los Analistas Jr y por 10 para los Analista Sr\n",
        "\n",
        "Los Analista Sr luego de meditar cuidadosamente reducirán la cantidad de cortes"
      ]
    },
    {
      "cell_type": "code",
      "execution_count": null,
      "id": "e5fa2439-b0e9-49e0-a861-71d7315d6e1c",
      "metadata": {
        "id": "e5fa2439-b0e9-49e0-a861-71d7315d6e1c"
      },
      "outputs": [],
      "source": [
        "# genero archivos con los  \"envios\" mejores\n",
        "# suba TODOS los archivos a Kaggle\n",
        "\n",
        "PARAM$kaggle$competencia <- \"data-mining-gerencial-2025-a\"\n",
        "PARAM$kaggle$cortes <- seq(800, 1300, by = 50)\n",
        "\n",
        "# ordeno por probabilidad descendente\n",
        "setorder(tb_prediccion, -prob)\n",
        "\n",
        "dir.create(\"kaggle\")\n",
        "\n",
        "for (envios in PARAM$kaggle$cortes) {\n",
        "\n",
        "  tb_prediccion[, Predicted := 0L] # seteo inicial a 0\n",
        "  tb_prediccion[1:envios, Predicted := 1L] # marclo los primeros\n",
        "\n",
        "  archivo_kaggle <- paste0(\"./kaggle/KA\", PARAM$experimento, \"_\", envios, \".csv\")\n",
        "\n",
        "  # grabo el archivo\n",
        "  fwrite(tb_prediccion[, list(numero_de_cliente, Predicted)],\n",
        "    file= archivo_kaggle,\n",
        "    sep= \",\"\n",
        "  )\n",
        "\n",
        "  # subida a Kaggle, armo la linea de comando\n",
        "  comando <- \"kaggle competitions submit\"\n",
        "  competencia <- paste(\"-c\", PARAM$kaggle$competencia)\n",
        "  arch <- paste( \"-f\", archivo_kaggle)\n",
        "\n",
        "  mensaje <- paste0(\"-m 'envios=\", envios,\n",
        "  \"  semilla=\", PARAM$semilla_primigenia,\n",
        "    \"'\" )\n",
        "\n",
        "  linea <- paste( comando, competencia, arch, mensaje)\n",
        "\n",
        "  salida <- system(linea, intern=TRUE) # el submit a Kaggle\n",
        "  cat(salida, \"\\n\")\n",
        "}"
      ]
    },
    {
      "cell_type": "code",
      "source": [
        "# grabo los parametros\n",
        "if( !require(\"yaml\")) install.packages(\"yaml\")\n",
        "require(\"yaml\")\n",
        "\n",
        "write_yaml( PARAM, file=\"PARAM.yml\")"
      ],
      "metadata": {
        "id": "C94tK-xid6p2"
      },
      "id": "C94tK-xid6p2",
      "execution_count": null,
      "outputs": []
    },
    {
      "cell_type": "code",
      "execution_count": null,
      "id": "1b615a62-20cc-4e95-9af2-6b6db38d5efb",
      "metadata": {
        "id": "1b615a62-20cc-4e95-9af2-6b6db38d5efb"
      },
      "outputs": [],
      "source": [
        "format(Sys.time(), \"%a %b %d %X %Y\")"
      ]
    }
  ],
  "metadata": {
    "kernelspec": {
      "display_name": "R",
      "name": "ir"
    },
    "language_info": {
      "name": "R"
    },
    "colab": {
      "provenance": [],
      "include_colab_link": true
    }
  },
  "nbformat": 4,
  "nbformat_minor": 5
}